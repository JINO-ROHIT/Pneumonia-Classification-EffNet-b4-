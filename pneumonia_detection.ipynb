{
  "nbformat": 4,
  "nbformat_minor": 0,
  "metadata": {
    "colab": {
      "name": "pneumonia_detection.ipynb",
      "provenance": []
    },
    "kernelspec": {
      "name": "python3",
      "display_name": "Python 3"
    },
    "language_info": {
      "name": "python"
    },
    "accelerator": "GPU"
  },
  "cells": [
    {
      "cell_type": "code",
      "metadata": {
        "id": "prudq4Rv-Zh1",
        "colab": {
          "base_uri": "https://localhost:8080/"
        },
        "outputId": "3690f0d0-ea96-4c25-eb50-9b9582191036"
      },
      "source": [
        "from google_drive_downloader import GoogleDriveDownloader as gdd\n",
        "\n",
        "gdd.download_file_from_google_drive(file_id='1d_93d9oFNRBK9Vg6BRxs9wvRbKtNTylY',\n",
        "                                    dest_path='content/pneumonia_dataset.zip',\n",
        "                                    unzip=True)"
      ],
      "execution_count": 1,
      "outputs": [
        {
          "output_type": "stream",
          "text": [
            "Downloading 1d_93d9oFNRBK9Vg6BRxs9wvRbKtNTylY into content/pneumonia_dataset.zip... Done.\n",
            "Unzipping...Done.\n"
          ],
          "name": "stdout"
        }
      ]
    },
    {
      "cell_type": "code",
      "metadata": {
        "colab": {
          "base_uri": "https://localhost:8080/"
        },
        "id": "P8VASNKa-oVI",
        "outputId": "5b415bf3-cbd7-4f62-d1cf-68d162b7a075"
      },
      "source": [
        "!nvidia-smi"
      ],
      "execution_count": null,
      "outputs": [
        {
          "output_type": "stream",
          "text": [
            "Sat Jul 17 19:42:38 2021       \n",
            "+-----------------------------------------------------------------------------+\n",
            "| NVIDIA-SMI 470.42.01    Driver Version: 460.32.03    CUDA Version: 11.2     |\n",
            "|-------------------------------+----------------------+----------------------+\n",
            "| GPU  Name        Persistence-M| Bus-Id        Disp.A | Volatile Uncorr. ECC |\n",
            "| Fan  Temp  Perf  Pwr:Usage/Cap|         Memory-Usage | GPU-Util  Compute M. |\n",
            "|                               |                      |               MIG M. |\n",
            "|===============================+======================+======================|\n",
            "|   0  Tesla T4            Off  | 00000000:00:04.0 Off |                    0 |\n",
            "| N/A   57C    P8    10W /  70W |      0MiB / 15109MiB |      0%      Default |\n",
            "|                               |                      |                  N/A |\n",
            "+-------------------------------+----------------------+----------------------+\n",
            "                                                                               \n",
            "+-----------------------------------------------------------------------------+\n",
            "| Processes:                                                                  |\n",
            "|  GPU   GI   CI        PID   Type   Process name                  GPU Memory |\n",
            "|        ID   ID                                                   Usage      |\n",
            "|=============================================================================|\n",
            "|  No running processes found                                                 |\n",
            "+-----------------------------------------------------------------------------+\n"
          ],
          "name": "stdout"
        }
      ]
    },
    {
      "cell_type": "code",
      "metadata": {
        "colab": {
          "base_uri": "https://localhost:8080/"
        },
        "id": "TfqYHTqY_j9i",
        "outputId": "c1e03886-2eec-491a-8715-acf1be557c3e"
      },
      "source": [
        "! pip install timm -q\n",
        "!pip install albumentations==0.4.6"
      ],
      "execution_count": 2,
      "outputs": [
        {
          "output_type": "stream",
          "text": [
            "\u001b[K     |████████████████████████████████| 378kB 8.3MB/s \n",
            "\u001b[?25hCollecting albumentations==0.4.6\n",
            "\u001b[?25l  Downloading https://files.pythonhosted.org/packages/92/33/1c459c2c9a4028ec75527eff88bc4e2d256555189f42af4baf4d7bd89233/albumentations-0.4.6.tar.gz (117kB)\n",
            "\u001b[K     |████████████████████████████████| 122kB 8.3MB/s \n",
            "\u001b[?25hRequirement already satisfied: numpy>=1.11.1 in /usr/local/lib/python3.7/dist-packages (from albumentations==0.4.6) (1.19.5)\n",
            "Requirement already satisfied: scipy in /usr/local/lib/python3.7/dist-packages (from albumentations==0.4.6) (1.4.1)\n",
            "Collecting imgaug>=0.4.0\n",
            "\u001b[?25l  Downloading https://files.pythonhosted.org/packages/66/b1/af3142c4a85cba6da9f4ebb5ff4e21e2616309552caca5e8acefe9840622/imgaug-0.4.0-py2.py3-none-any.whl (948kB)\n",
            "\u001b[K     |████████████████████████████████| 952kB 43.8MB/s \n",
            "\u001b[?25hRequirement already satisfied: PyYAML in /usr/local/lib/python3.7/dist-packages (from albumentations==0.4.6) (3.13)\n",
            "Requirement already satisfied: opencv-python>=4.1.1 in /usr/local/lib/python3.7/dist-packages (from albumentations==0.4.6) (4.1.2.30)\n",
            "Requirement already satisfied: Pillow in /usr/local/lib/python3.7/dist-packages (from imgaug>=0.4.0->albumentations==0.4.6) (7.1.2)\n",
            "Requirement already satisfied: imageio in /usr/local/lib/python3.7/dist-packages (from imgaug>=0.4.0->albumentations==0.4.6) (2.4.1)\n",
            "Requirement already satisfied: matplotlib in /usr/local/lib/python3.7/dist-packages (from imgaug>=0.4.0->albumentations==0.4.6) (3.2.2)\n",
            "Requirement already satisfied: six in /usr/local/lib/python3.7/dist-packages (from imgaug>=0.4.0->albumentations==0.4.6) (1.15.0)\n",
            "Requirement already satisfied: Shapely in /usr/local/lib/python3.7/dist-packages (from imgaug>=0.4.0->albumentations==0.4.6) (1.7.1)\n",
            "Requirement already satisfied: scikit-image>=0.14.2 in /usr/local/lib/python3.7/dist-packages (from imgaug>=0.4.0->albumentations==0.4.6) (0.16.2)\n",
            "Requirement already satisfied: kiwisolver>=1.0.1 in /usr/local/lib/python3.7/dist-packages (from matplotlib->imgaug>=0.4.0->albumentations==0.4.6) (1.3.1)\n",
            "Requirement already satisfied: python-dateutil>=2.1 in /usr/local/lib/python3.7/dist-packages (from matplotlib->imgaug>=0.4.0->albumentations==0.4.6) (2.8.1)\n",
            "Requirement already satisfied: cycler>=0.10 in /usr/local/lib/python3.7/dist-packages (from matplotlib->imgaug>=0.4.0->albumentations==0.4.6) (0.10.0)\n",
            "Requirement already satisfied: pyparsing!=2.0.4,!=2.1.2,!=2.1.6,>=2.0.1 in /usr/local/lib/python3.7/dist-packages (from matplotlib->imgaug>=0.4.0->albumentations==0.4.6) (2.4.7)\n",
            "Requirement already satisfied: PyWavelets>=0.4.0 in /usr/local/lib/python3.7/dist-packages (from scikit-image>=0.14.2->imgaug>=0.4.0->albumentations==0.4.6) (1.1.1)\n",
            "Requirement already satisfied: networkx>=2.0 in /usr/local/lib/python3.7/dist-packages (from scikit-image>=0.14.2->imgaug>=0.4.0->albumentations==0.4.6) (2.5.1)\n",
            "Requirement already satisfied: decorator<5,>=4.3 in /usr/local/lib/python3.7/dist-packages (from networkx>=2.0->scikit-image>=0.14.2->imgaug>=0.4.0->albumentations==0.4.6) (4.4.2)\n",
            "Building wheels for collected packages: albumentations\n",
            "  Building wheel for albumentations (setup.py) ... \u001b[?25l\u001b[?25hdone\n",
            "  Created wheel for albumentations: filename=albumentations-0.4.6-cp37-none-any.whl size=65175 sha256=a4341fb5b4f3aa1ab6d1177f3a804d9060e6f33bd4bce559dc469faa69542825\n",
            "  Stored in directory: /root/.cache/pip/wheels/c7/f4/89/56d1bee5c421c36c1a951eeb4adcc32fbb82f5344c086efa14\n",
            "Successfully built albumentations\n",
            "Installing collected packages: imgaug, albumentations\n",
            "  Found existing installation: imgaug 0.2.9\n",
            "    Uninstalling imgaug-0.2.9:\n",
            "      Successfully uninstalled imgaug-0.2.9\n",
            "  Found existing installation: albumentations 0.1.12\n",
            "    Uninstalling albumentations-0.1.12:\n",
            "      Successfully uninstalled albumentations-0.1.12\n",
            "Successfully installed albumentations-0.4.6 imgaug-0.4.0\n"
          ],
          "name": "stdout"
        }
      ]
    },
    {
      "cell_type": "code",
      "metadata": {
        "id": "MFC4d5Zl_UM2"
      },
      "source": [
        "import os\n",
        "import gc\n",
        "import random\n",
        "import pprint\n",
        "from datetime import datetime\n",
        "\n",
        "import cv2\n",
        "import timm\n",
        "import zipfile\n",
        "import numpy as np\n",
        "import pandas as pd\n",
        "from glob import glob\n",
        "from tqdm import tqdm\n",
        "\n",
        "import albumentations as A\n",
        "from albumentations.pytorch import ToTensorV2\n",
        "\n",
        "import torch\n",
        "import torch.nn as nn\n",
        "from torch.utils.data import Dataset\n",
        "from torch.cuda.amp import autocast, GradScaler\n",
        "from sklearn.model_selection import StratifiedKFold\n",
        "from sklearn.metrics import f1_score\n",
        "\n",
        "VERBOSE_STEP = 1"
      ],
      "execution_count": 3,
      "outputs": []
    },
    {
      "cell_type": "code",
      "metadata": {
        "id": "T6YHMbDk_gOG"
      },
      "source": [
        "def seed_everything(seed_value=42):\n",
        "    random.seed(seed_value)\n",
        "    np.random.seed(seed_value)\n",
        "    os.environ[\"PYTHONHASHSEED\"] = str(seed_value)\n",
        "    torch.manual_seed(seed_value)\n",
        "\n",
        "    if torch.cuda.is_available():\n",
        "        torch.cuda.manual_seed(seed_value)\n",
        "        torch.cuda.manual_seed_all(seed_value)\n",
        "        torch.backends.cudnn.deterministic = True\n",
        "        torch.backends.cudnn.benchmark = False"
      ],
      "execution_count": 4,
      "outputs": []
    },
    {
      "cell_type": "code",
      "metadata": {
        "id": "Zg7UoAcwAWBM"
      },
      "source": [
        "class config:\n",
        "    n_epochs = 30\n",
        "    img_size = 256\n",
        "    arch = \"tf_efficientnet_b4_ns\""
      ],
      "execution_count": 5,
      "outputs": []
    },
    {
      "cell_type": "code",
      "metadata": {
        "colab": {
          "base_uri": "https://localhost:8080/"
        },
        "id": "AeyGNCYZAcF0",
        "outputId": "31d70ae5-c01e-4c2a-fe7a-9efd7c108fc3"
      },
      "source": [
        "ROOT_DIR = \"/content/content/pneumonia_dataset/\"\n",
        "train_df = pd.DataFrame()\n",
        "\n",
        "\n",
        "train_df[\"path\"] = list(\n",
        "    glob(os.path.join(ROOT_DIR, \"train\",\"normal\", \"*\")) +\n",
        "    glob(os.path.join(ROOT_DIR, \"train\",\"pneumonia\", \"*\"))\n",
        ")\n",
        "\n",
        "train_df[\"filename\"] = train_df[\"path\"].apply(lambda x: os.path.split(x)[-1])\n",
        "train_df[\"class\"] = train_df[\"path\"].apply(lambda x: os.path.split(os.path.split(x)[0])[-1])\n",
        "train_df[\"label\"] = train_df[\"class\"].apply(lambda x: 0 if x.lower() == \"normal\" else 1)\n",
        "\n",
        "print(\"Total images:\", len(train_df))"
      ],
      "execution_count": 6,
      "outputs": [
        {
          "output_type": "stream",
          "text": [
            "Total images: 2425\n"
          ],
          "name": "stdout"
        }
      ]
    },
    {
      "cell_type": "code",
      "metadata": {
        "colab": {
          "base_uri": "https://localhost:8080/"
        },
        "id": "WVzyDPCPA5i9",
        "outputId": "c6d6b1a2-4a1c-4a0a-a0f7-a6c6adbf017c"
      },
      "source": [
        "os.path.split(os.path.split('/content/content/pneumonia_dataset/train/normal/CXR_train_902.png')[0])"
      ],
      "execution_count": null,
      "outputs": [
        {
          "output_type": "execute_result",
          "data": {
            "text/plain": [
              "('/content/content/pneumonia_dataset/train', 'normal')"
            ]
          },
          "metadata": {
            "tags": []
          },
          "execution_count": 14
        }
      ]
    },
    {
      "cell_type": "code",
      "metadata": {
        "colab": {
          "base_uri": "https://localhost:8080/",
          "height": 110
        },
        "id": "ruQw7oM2B0g9",
        "outputId": "fb36f408-9ce9-417f-dfe5-4795b8e25278"
      },
      "source": [
        "train_df.head(2)"
      ],
      "execution_count": 7,
      "outputs": [
        {
          "output_type": "execute_result",
          "data": {
            "text/html": [
              "<div>\n",
              "<style scoped>\n",
              "    .dataframe tbody tr th:only-of-type {\n",
              "        vertical-align: middle;\n",
              "    }\n",
              "\n",
              "    .dataframe tbody tr th {\n",
              "        vertical-align: top;\n",
              "    }\n",
              "\n",
              "    .dataframe thead th {\n",
              "        text-align: right;\n",
              "    }\n",
              "</style>\n",
              "<table border=\"1\" class=\"dataframe\">\n",
              "  <thead>\n",
              "    <tr style=\"text-align: right;\">\n",
              "      <th></th>\n",
              "      <th>path</th>\n",
              "      <th>filename</th>\n",
              "      <th>class</th>\n",
              "      <th>label</th>\n",
              "    </tr>\n",
              "  </thead>\n",
              "  <tbody>\n",
              "    <tr>\n",
              "      <th>0</th>\n",
              "      <td>/content/content/pneumonia_dataset/train/norma...</td>\n",
              "      <td>CXR_train_902.png</td>\n",
              "      <td>normal</td>\n",
              "      <td>0</td>\n",
              "    </tr>\n",
              "    <tr>\n",
              "      <th>1</th>\n",
              "      <td>/content/content/pneumonia_dataset/train/norma...</td>\n",
              "      <td>CXR_train_2209.png</td>\n",
              "      <td>normal</td>\n",
              "      <td>0</td>\n",
              "    </tr>\n",
              "  </tbody>\n",
              "</table>\n",
              "</div>"
            ],
            "text/plain": [
              "                                                path  ... label\n",
              "0  /content/content/pneumonia_dataset/train/norma...  ...     0\n",
              "1  /content/content/pneumonia_dataset/train/norma...  ...     0\n",
              "\n",
              "[2 rows x 4 columns]"
            ]
          },
          "metadata": {
            "tags": []
          },
          "execution_count": 7
        }
      ]
    },
    {
      "cell_type": "code",
      "metadata": {
        "colab": {
          "base_uri": "https://localhost:8080/",
          "height": 286
        },
        "id": "2_S3YgZ-Oeze",
        "outputId": "4ed958d9-0519-4d89-e157-9e0ed7fd18fa"
      },
      "source": [
        "import matplotlib.pyplot as plt\n",
        "img = cv2.imread(train_df.path.iloc[2])\n",
        "plt.imshow(img)\n",
        "print(img.shape)"
      ],
      "execution_count": 13,
      "outputs": [
        {
          "output_type": "stream",
          "text": [
            "(1024, 1024, 3)\n"
          ],
          "name": "stdout"
        },
        {
          "output_type": "display_data",
          "data": {
            "image/png": "[encoded data removed]",
            "text/plain": [
              "<Figure size 432x288 with 1 Axes>"
            ]
          },
          "metadata": {
            "tags": [],
            "needs_background": "light"
          }
        }
      ]
    },
    {
      "cell_type": "code",
      "metadata": {
        "colab": {
          "base_uri": "https://localhost:8080/",
          "height": 162
        },
        "id": "icfOGke9RwnR",
        "outputId": "6f3c3406-fcdf-4df8-a017-06596fe7d3b7"
      },
      "source": [
        "img.flip(-1)"
      ],
      "execution_count": 16,
      "outputs": [
        {
          "output_type": "error",
          "ename": "AttributeError",
          "evalue": "ignored",
          "traceback": [
            "\u001b[0;31m---------------------------------------------------------------------------\u001b[0m",
            "\u001b[0;31mAttributeError\u001b[0m                            Traceback (most recent call last)",
            "\u001b[0;32m<ipython-input-16-cc153e9f8ad0>\u001b[0m in \u001b[0;36m<module>\u001b[0;34m()\u001b[0m\n\u001b[0;32m----> 1\u001b[0;31m \u001b[0mimg\u001b[0m\u001b[0;34m.\u001b[0m\u001b[0mflip\u001b[0m\u001b[0;34m(\u001b[0m\u001b[0;34m-\u001b[0m\u001b[0;36m1\u001b[0m\u001b[0;34m)\u001b[0m\u001b[0;34m\u001b[0m\u001b[0;34m\u001b[0m\u001b[0m\n\u001b[0m",
            "\u001b[0;31mAttributeError\u001b[0m: 'numpy.ndarray' object has no attribute 'flip'"
          ]
        }
      ]
    },
    {
      "cell_type": "code",
      "metadata": {
        "id": "wEalNIZvCFpv"
      },
      "source": [
        "class PneumoniaDataset(Dataset):\n",
        "    def __init__(self, df, data_root, transforms=None, output_label=True):\n",
        "\n",
        "        super().__init__()\n",
        "        self.df = df.reset_index(drop=True).copy()\n",
        "        self.data_root = data_root\n",
        "        self.transforms = transforms\n",
        "        self.output_label = output_label\n",
        "\n",
        "        if output_label == True:\n",
        "            self.labels = self.df[\"label\"].values\n",
        "\n",
        "    def __len__(self):\n",
        "        return self.df.shape[0]\n",
        "\n",
        "    def __getitem__(self, index: int):\n",
        "\n",
        "        if self.output_label:\n",
        "            target = self.labels[index]\n",
        "\n",
        "            img = cv2.imread(os.path.join(\n",
        "                    self.data_root,\n",
        "                    self.df.loc[index][\"class\"],\n",
        "                    self.df.loc[index].filename))[:, :, ::-1]\n",
        "\n",
        "        else:\n",
        "            img = cv2.imread(os.path.join(\n",
        "                    self.data_root,\n",
        "                    self.df.loc[index].filename))[:, :, ::-1]\n",
        "\n",
        "        if self.transforms:\n",
        "            img = self.transforms(image = img)[\"image\"]\n",
        "\n",
        "        if self.output_label == True:\n",
        "            return img, target\n",
        "        else:\n",
        "            return img"
      ],
      "execution_count": 8,
      "outputs": []
    },
    {
      "cell_type": "code",
      "metadata": {
        "id": "PT3N3EqREBa3"
      },
      "source": [
        "class PneumoniaImageClassifier(nn.Module):\n",
        "    def __init__(self, model_arch, n_class, pretrained=False):\n",
        "        super().__init__()\n",
        "        self.model = timm.create_model(model_arch, pretrained=pretrained)\n",
        "\n",
        "        if \"eff\" in model_arch:\n",
        "            n_features = self.model.classifier.in_features\n",
        "            self.model.classifier = nn.Linear(n_features, n_class)\n",
        "        elif \"res\" in model_arch:\n",
        "            n_features = self.model.fc.in_features\n",
        "            self.model.fc = nn.Linear(n_features, n_class)\n",
        "\n",
        "    def forward(self, x):\n",
        "        x = self.model(x)\n",
        "        return x"
      ],
      "execution_count": 9,
      "outputs": []
    },
    {
      "cell_type": "code",
      "metadata": {
        "id": "9O0avkqqEV0D"
      },
      "source": [
        "def get_transforms(split, img_size=512):\n",
        "\n",
        "    if 'train' in split.lower():\n",
        "        return A.Compose([\n",
        "            A.RandomResizedCrop(img_size, img_size, scale=(0.6, 1.0), ratio=(3 / 5, 5 / 3)),\n",
        "            A.Transpose(p=0.25),\n",
        "            A.OneOf([\n",
        "                    A.HueSaturationValue(hue_shift_limit=0.2, sat_shift_limit=0.2, val_shift_limit=0.2, p=0.8),\n",
        "                    A.RandomBrightnessContrast(brightness_limit=0.2, contrast_limit=0.2, p=0.8)\n",
        "                    ], p=0.5),\n",
        "            A.OneOf([A.MotionBlur(), A.MedianBlur(blur_limit=3), A.Blur(blur_limit=3)], p=0.2),\n",
        "            A.HorizontalFlip(p=0.5),\n",
        "            A.OneOf([\n",
        "                    A.ShiftScaleRotate(shift_limit=0.0625, scale_limit=0.2, rotate_limit=30, p=0.8),\n",
        "                    A.Rotate(limit=30, p=0.8)\n",
        "                    ], p=0.3),\n",
        "            A.OneOf([A.CLAHE(clip_limit=2), A.IAASharpen(), A.IAAPerspective()], p=0.2),\n",
        "            A.CoarseDropout(p=0.25),\n",
        "            A.Cutout(num_holes=8, max_h_size=img_size // 10, max_w_size=img_size // 10, fill_value=0, p=0.25),\n",
        "            A.Resize(height=img_size, width=img_size, p=1.0),\n",
        "            A.Normalize(),\n",
        "            ToTensorV2(p=1.0),\n",
        "            ], p=1.0)\n",
        "        \n",
        "    elif 'valid' in split.lower() or 'test' in split.lower():\n",
        "        return A.Compose([\n",
        "            A.Resize(img_size, img_size), \n",
        "            A.Normalize(),\n",
        "            ToTensorV2(p=1.0)\n",
        "            ], p=1.0)"
      ],
      "execution_count": 14,
      "outputs": []
    },
    {
      "cell_type": "code",
      "metadata": {
        "id": "D7ei-u4gEeVc"
      },
      "source": [
        "def train_one_epoch(epoch, model, loss_fn, optimizer, train_loader, device, scaler, scheduler=None, schd_batch_update=False):\n",
        "    model.train()\n",
        "\n",
        "    running_loss = None\n",
        "\n",
        "    pbar = tqdm(enumerate(train_loader), total=len(train_loader))\n",
        "    for step, (imgs, image_labels) in pbar:\n",
        "        imgs = imgs.to(device).float()\n",
        "        image_labels = image_labels.to(device).long() #equiv to int64\n",
        "\n",
        "        with autocast():\n",
        "            image_preds = model(imgs)\n",
        "            loss = loss_fn(image_preds, image_labels)\n",
        "            scaler.scale(loss).backward()\n",
        "\n",
        "            if running_loss is None:\n",
        "                running_loss = loss.item()\n",
        "            else:\n",
        "                running_loss = running_loss * 0.99 + loss.item() * 0.01\n",
        "\n",
        "            if ((step + 1) % 2 == 0) or ((step + 1) == len(train_loader)):\n",
        "\n",
        "                scaler.step(optimizer)\n",
        "                scaler.update()\n",
        "                optimizer.zero_grad()\n",
        "\n",
        "                if scheduler is not None and schd_batch_update:\n",
        "                    scheduler.step()\n",
        "\n",
        "            if ((step + 1) % VERBOSE_STEP == 0) or ((step + 1) == len(train_loader)):\n",
        "                description = f\"epoch {epoch} loss: {running_loss:.4f}\"\n",
        "                pbar.set_description(description)\n",
        "\n",
        "    if scheduler is not None and not schd_batch_update:\n",
        "        scheduler.step()\n",
        "\n",
        "\n",
        "def valid_one_epoch(epoch, model, loss_fn, val_loader, device, accuracy_fn=None, scheduler=None, schd_loss_update=False):\n",
        "    model.eval()\n",
        "\n",
        "    loss_sum = 0\n",
        "    sample_num = 0\n",
        "    image_preds_all = []\n",
        "    image_targets_all = []\n",
        "\n",
        "    pbar = tqdm(enumerate(val_loader), total=len(val_loader))\n",
        "    for step, (imgs, image_labels) in pbar:\n",
        "        imgs = imgs.to(device).float()\n",
        "        image_labels = image_labels.to(device).long()\n",
        "\n",
        "        image_preds = model(imgs)\n",
        "        image_preds_all += [torch.argmax(image_preds, 1).detach().cpu().numpy()]\n",
        "        image_targets_all += [image_labels.detach().cpu().numpy()]\n",
        "\n",
        "        loss = loss_fn(image_preds, image_labels)\n",
        "\n",
        "        loss_sum += loss.item() * image_labels.shape[0]\n",
        "        sample_num += image_labels.shape[0]\n",
        "\n",
        "        if ((step + 1) % VERBOSE_STEP == 0) or ((step + 1) == len(val_loader)):\n",
        "            description = f\"epoch {epoch} loss: {loss_sum/sample_num:.4f}\"\n",
        "            pbar.set_description(description)\n",
        "\n",
        "    image_preds_all = np.concatenate(image_preds_all)\n",
        "    image_targets_all = np.concatenate(image_targets_all)\n",
        "\n",
        "    if accuracy_fn is not None:\n",
        "        acc = accuracy_fn(image_targets_all, image_preds_all)\n",
        "        print(f\"validation multi-class accuracy = {acc:.4f}\")\n",
        "\n",
        "    if scheduler is not None:\n",
        "        if schd_loss_update:\n",
        "            scheduler.step(loss_sum / sample_num)\n",
        "        else:\n",
        "            scheduler.step()\n",
        "\n",
        "\n",
        "def inference_one_epoch(model, data_loader, device):\n",
        "    model.eval()\n",
        "    image_preds_all = []\n",
        "    pbar = tqdm(enumerate(data_loader), total=len(data_loader))\n",
        "    \n",
        "    for step, (imgs) in pbar:\n",
        "        imgs = imgs.to(device).float()\n",
        "        image_preds = model(imgs)\n",
        "        image_preds_flip = model(imgs.flip(-1))\n",
        "        image_preds = (image_preds + image_preds_flip) / 2\n",
        "        image_preds_all += [torch.softmax(image_preds, 1).detach().cpu().numpy()]\n",
        "\n",
        "    image_preds_all = np.concatenate(image_preds_all, axis=0)\n",
        "    return image_preds_all"
      ],
      "execution_count": 17,
      "outputs": []
    },
    {
      "cell_type": "code",
      "metadata": {
        "id": "ELW4ByKXSHYT"
      },
      "source": [
        "folds = StratifiedKFold(n_splits=5, shuffle=True, random_state=42).split(np.arange(train_df.shape[0]), train_df.label.values)"
      ],
      "execution_count": 18,
      "outputs": []
    },
    {
      "cell_type": "code",
      "metadata": {
        "colab": {
          "base_uri": "https://localhost:8080/"
        },
        "id": "0ts8QYKKSSsD",
        "outputId": "2eb0c8cb-e492-4de5-ea1e-1504cfd5932b"
      },
      "source": [
        "for fold, (trn_idx, val_idx) in enumerate(folds):\n",
        "\n",
        "    print(f\"\\n\\nTRAINING FOLD {fold+1}/5\")\n",
        "    print(\"Train:\", len(trn_idx), \"Val:\", len(val_idx), \"\\n\")\n",
        "\n",
        "    train = train_df.loc[trn_idx, :].reset_index(drop=True)\n",
        "    valid = train_df.loc[val_idx, :].reset_index(drop=True)\n",
        "\n",
        "    train_dataset = PneumoniaDataset(train, ROOT_DIR+\"train/\",\n",
        "        transforms = get_transforms(\"train\", config.img_size), output_label=True)\n",
        "    valid_dataset = PneumoniaDataset(valid, ROOT_DIR+\"train/\", \n",
        "        transforms = get_transforms(\"valid\", config.img_size), output_label=True)\n",
        "\n",
        "    train_loader = torch.utils.data.DataLoader(train_dataset, batch_size=16, num_workers=2,\n",
        "        pin_memory=False, drop_last=True, shuffle=True)\n",
        "    val_loader = torch.utils.data.DataLoader(valid_dataset, batch_size=16*2, num_workers=2,\n",
        "        pin_memory=False, drop_last=False, shuffle=False)\n",
        "\n",
        "    device = torch.device(\"cuda\" if torch.cuda.is_available() else \"cpu\")\n",
        "    model = PneumoniaImageClassifier(config.arch, n_class=2, pretrained=True).to(device)\n",
        "    scaler = GradScaler()\n",
        "    optimizer = torch.optim.Adam(model.parameters(), lr=1e-3)\n",
        "    scheduler = torch.optim.lr_scheduler.OneCycleLR(optimizer, max_lr=1e-3, total_steps=config.n_epochs)\n",
        "    loss = torch.nn.CrossEntropyLoss()\n",
        "\n",
        "    for epoch in range(1, config.n_epochs + 1):        \n",
        "\n",
        "        train_one_epoch(\n",
        "            epoch,\n",
        "            model,\n",
        "            loss,\n",
        "            optimizer,\n",
        "            train_loader,\n",
        "            device,\n",
        "            scaler=scaler,\n",
        "            scheduler=scheduler,\n",
        "            schd_batch_update=False,\n",
        "        )\n",
        "\n",
        "        with torch.no_grad():\n",
        "            valid_one_epoch(\n",
        "                epoch,\n",
        "                model,\n",
        "                loss,\n",
        "                val_loader,\n",
        "                device,\n",
        "                accuracy_fn=f1_score,\n",
        "                scheduler=None,\n",
        "                schd_loss_update=False,\n",
        "            )\n",
        "\n",
        "        os.makedirs(\"./weights/\", exist_ok=True)\n",
        "        \n",
        "        # save only last epoch\n",
        "        if epoch >= config.n_epochs:\n",
        "            torch.save(model.state_dict(), f\"./weights/ckpt_{config.arch}_fold_{fold}_{epoch:03d}.pth\")\n",
        "\n",
        "    del model, train_loader, val_loader, scaler, optimizer, scheduler\n",
        "    torch.cuda.empty_cache(); gc.collect();"
      ],
      "execution_count": 22,
      "outputs": [
        {
          "output_type": "stream",
          "text": [
            "\n",
            "\n",
            "TRAINING FOLD 1/5\n",
            "Train: 1940 Val: 485 \n",
            "\n"
          ],
          "name": "stdout"
        },
        {
          "output_type": "stream",
          "text": [
            "Downloading: \"https://github.com/rwightman/pytorch-image-models/releases/download/v0.1-weights/tf_efficientnet_b4_ns-d6313a46.pth\" to /root/.cache/torch/hub/checkpoints/tf_efficientnet_b4_ns-d6313a46.pth\n",
            "epoch 1 loss: 0.6718: 100%|██████████| 121/121 [00:44<00:00,  2.74it/s]\n",
            "epoch 1 loss: 0.6459: 100%|██████████| 16/16 [00:09<00:00,  1.66it/s]"
          ],
          "name": "stderr"
        },
        {
          "output_type": "stream",
          "text": [
            "validation multi-class accuracy = 0.5736\n"
          ],
          "name": "stdout"
        },
        {
          "output_type": "stream",
          "text": [
            "\n",
            "epoch 2 loss: 0.6332: 100%|██████████| 121/121 [00:44<00:00,  2.71it/s]\n",
            "epoch 2 loss: 0.5908: 100%|██████████| 16/16 [00:09<00:00,  1.76it/s]"
          ],
          "name": "stderr"
        },
        {
          "output_type": "stream",
          "text": [
            "validation multi-class accuracy = 0.6697\n"
          ],
          "name": "stdout"
        },
        {
          "output_type": "stream",
          "text": [
            "\n",
            "epoch 3 loss: 0.6414: 100%|██████████| 121/121 [00:45<00:00,  2.68it/s]\n",
            "epoch 3 loss: 0.5649: 100%|██████████| 16/16 [00:09<00:00,  1.72it/s]"
          ],
          "name": "stderr"
        },
        {
          "output_type": "stream",
          "text": [
            "validation multi-class accuracy = 0.6911\n"
          ],
          "name": "stdout"
        },
        {
          "output_type": "stream",
          "text": [
            "\n",
            "epoch 4 loss: 0.5828: 100%|██████████| 121/121 [00:45<00:00,  2.68it/s]\n",
            "epoch 4 loss: 0.5943: 100%|██████████| 16/16 [00:09<00:00,  1.71it/s]"
          ],
          "name": "stderr"
        },
        {
          "output_type": "stream",
          "text": [
            "validation multi-class accuracy = 0.6514\n"
          ],
          "name": "stdout"
        },
        {
          "output_type": "stream",
          "text": [
            "\n",
            "epoch 5 loss: 0.5700: 100%|██████████| 121/121 [00:43<00:00,  2.76it/s]\n",
            "epoch 5 loss: 0.6097: 100%|██████████| 16/16 [00:10<00:00,  1.55it/s]"
          ],
          "name": "stderr"
        },
        {
          "output_type": "stream",
          "text": [
            "validation multi-class accuracy = 0.6901\n"
          ],
          "name": "stdout"
        },
        {
          "output_type": "stream",
          "text": [
            "\n",
            "epoch 6 loss: 0.5804: 100%|██████████| 121/121 [00:46<00:00,  2.61it/s]\n",
            "epoch 6 loss: 0.6057: 100%|██████████| 16/16 [00:09<00:00,  1.67it/s]"
          ],
          "name": "stderr"
        },
        {
          "output_type": "stream",
          "text": [
            "validation multi-class accuracy = 0.6843\n"
          ],
          "name": "stdout"
        },
        {
          "output_type": "stream",
          "text": [
            "\n",
            "epoch 7 loss: 0.5206: 100%|██████████| 121/121 [00:44<00:00,  2.70it/s]\n",
            "epoch 7 loss: 0.5910: 100%|██████████| 16/16 [00:09<00:00,  1.71it/s]"
          ],
          "name": "stderr"
        },
        {
          "output_type": "stream",
          "text": [
            "validation multi-class accuracy = 0.6908\n"
          ],
          "name": "stdout"
        },
        {
          "output_type": "stream",
          "text": [
            "\n",
            "epoch 8 loss: 0.5544: 100%|██████████| 121/121 [00:44<00:00,  2.74it/s]\n",
            "epoch 8 loss: 0.5721: 100%|██████████| 16/16 [00:10<00:00,  1.57it/s]"
          ],
          "name": "stderr"
        },
        {
          "output_type": "stream",
          "text": [
            "validation multi-class accuracy = 0.7225\n"
          ],
          "name": "stdout"
        },
        {
          "output_type": "stream",
          "text": [
            "\n",
            "epoch 9 loss: 0.5188: 100%|██████████| 121/121 [00:43<00:00,  2.75it/s]\n",
            "epoch 9 loss: 0.5600: 100%|██████████| 16/16 [00:10<00:00,  1.55it/s]"
          ],
          "name": "stderr"
        },
        {
          "output_type": "stream",
          "text": [
            "validation multi-class accuracy = 0.6964\n"
          ],
          "name": "stdout"
        },
        {
          "output_type": "stream",
          "text": [
            "\n",
            "epoch 10 loss: 0.5472: 100%|██████████| 121/121 [00:44<00:00,  2.73it/s]\n",
            "epoch 10 loss: 0.5814: 100%|██████████| 16/16 [00:09<00:00,  1.70it/s]"
          ],
          "name": "stderr"
        },
        {
          "output_type": "stream",
          "text": [
            "validation multi-class accuracy = 0.6765\n"
          ],
          "name": "stdout"
        },
        {
          "output_type": "stream",
          "text": [
            "\n",
            "epoch 11 loss: 0.5515: 100%|██████████| 121/121 [00:44<00:00,  2.69it/s]\n",
            "epoch 11 loss: 0.5529: 100%|██████████| 16/16 [00:09<00:00,  1.74it/s]"
          ],
          "name": "stderr"
        },
        {
          "output_type": "stream",
          "text": [
            "validation multi-class accuracy = 0.6983\n"
          ],
          "name": "stdout"
        },
        {
          "output_type": "stream",
          "text": [
            "\n",
            "epoch 12 loss: 0.5035: 100%|██████████| 121/121 [00:45<00:00,  2.65it/s]\n",
            "epoch 12 loss: 0.5505: 100%|██████████| 16/16 [00:10<00:00,  1.55it/s]"
          ],
          "name": "stderr"
        },
        {
          "output_type": "stream",
          "text": [
            "validation multi-class accuracy = 0.7061\n"
          ],
          "name": "stdout"
        },
        {
          "output_type": "stream",
          "text": [
            "\n",
            "epoch 13 loss: 0.5560: 100%|██████████| 121/121 [00:45<00:00,  2.67it/s]\n",
            "epoch 13 loss: 0.5693: 100%|██████████| 16/16 [00:09<00:00,  1.70it/s]"
          ],
          "name": "stderr"
        },
        {
          "output_type": "stream",
          "text": [
            "validation multi-class accuracy = 0.6952\n"
          ],
          "name": "stdout"
        },
        {
          "output_type": "stream",
          "text": [
            "\n",
            "epoch 14 loss: 0.5165: 100%|██████████| 121/121 [00:46<00:00,  2.62it/s]\n",
            "epoch 14 loss: 0.5394: 100%|██████████| 16/16 [00:09<00:00,  1.70it/s]"
          ],
          "name": "stderr"
        },
        {
          "output_type": "stream",
          "text": [
            "validation multi-class accuracy = 0.7228\n"
          ],
          "name": "stdout"
        },
        {
          "output_type": "stream",
          "text": [
            "\n",
            "epoch 15 loss: 0.4638: 100%|██████████| 121/121 [00:46<00:00,  2.62it/s]\n",
            "epoch 15 loss: 0.6141: 100%|██████████| 16/16 [00:09<00:00,  1.66it/s]"
          ],
          "name": "stderr"
        },
        {
          "output_type": "stream",
          "text": [
            "validation multi-class accuracy = 0.7237\n"
          ],
          "name": "stdout"
        },
        {
          "output_type": "stream",
          "text": [
            "\n",
            "epoch 16 loss: 0.4629: 100%|██████████| 121/121 [00:46<00:00,  2.60it/s]\n",
            "epoch 16 loss: 0.6159: 100%|██████████| 16/16 [00:09<00:00,  1.64it/s]"
          ],
          "name": "stderr"
        },
        {
          "output_type": "stream",
          "text": [
            "validation multi-class accuracy = 0.7190\n"
          ],
          "name": "stdout"
        },
        {
          "output_type": "stream",
          "text": [
            "\n",
            "epoch 17 loss: 0.4366: 100%|██████████| 121/121 [00:45<00:00,  2.68it/s]\n",
            "epoch 17 loss: 0.6337: 100%|██████████| 16/16 [00:10<00:00,  1.56it/s]"
          ],
          "name": "stderr"
        },
        {
          "output_type": "stream",
          "text": [
            "validation multi-class accuracy = 0.6385\n"
          ],
          "name": "stdout"
        },
        {
          "output_type": "stream",
          "text": [
            "\n",
            "epoch 18 loss: 0.4135: 100%|██████████| 121/121 [00:46<00:00,  2.61it/s]\n",
            "epoch 18 loss: 0.6023: 100%|██████████| 16/16 [00:09<00:00,  1.71it/s]"
          ],
          "name": "stderr"
        },
        {
          "output_type": "stream",
          "text": [
            "validation multi-class accuracy = 0.6948\n"
          ],
          "name": "stdout"
        },
        {
          "output_type": "stream",
          "text": [
            "\n",
            "epoch 19 loss: 0.4006: 100%|██████████| 121/121 [00:46<00:00,  2.63it/s]\n",
            "epoch 19 loss: 0.5986: 100%|██████████| 16/16 [00:09<00:00,  1.65it/s]"
          ],
          "name": "stderr"
        },
        {
          "output_type": "stream",
          "text": [
            "validation multi-class accuracy = 0.6918\n"
          ],
          "name": "stdout"
        },
        {
          "output_type": "stream",
          "text": [
            "\n",
            "epoch 20 loss: 0.4952: 100%|██████████| 121/121 [00:45<00:00,  2.65it/s]\n",
            "epoch 20 loss: 0.6396: 100%|██████████| 16/16 [00:10<00:00,  1.59it/s]"
          ],
          "name": "stderr"
        },
        {
          "output_type": "stream",
          "text": [
            "validation multi-class accuracy = 0.6793\n"
          ],
          "name": "stdout"
        },
        {
          "output_type": "stream",
          "text": [
            "\n",
            "epoch 21 loss: 0.4359: 100%|██████████| 121/121 [00:44<00:00,  2.72it/s]\n",
            "epoch 21 loss: 0.7830: 100%|██████████| 16/16 [00:10<00:00,  1.53it/s]"
          ],
          "name": "stderr"
        },
        {
          "output_type": "stream",
          "text": [
            "validation multi-class accuracy = 0.6198\n"
          ],
          "name": "stdout"
        },
        {
          "output_type": "stream",
          "text": [
            "\n",
            "epoch 22 loss: 0.4014: 100%|██████████| 121/121 [00:45<00:00,  2.68it/s]\n",
            "epoch 22 loss: 0.8361: 100%|██████████| 16/16 [00:10<00:00,  1.60it/s]"
          ],
          "name": "stderr"
        },
        {
          "output_type": "stream",
          "text": [
            "validation multi-class accuracy = 0.6832\n"
          ],
          "name": "stdout"
        },
        {
          "output_type": "stream",
          "text": [
            "\n",
            "epoch 23 loss: 0.2784: 100%|██████████| 121/121 [00:45<00:00,  2.67it/s]\n",
            "epoch 23 loss: 0.8829: 100%|██████████| 16/16 [00:09<00:00,  1.71it/s]"
          ],
          "name": "stderr"
        },
        {
          "output_type": "stream",
          "text": [
            "validation multi-class accuracy = 0.6091\n"
          ],
          "name": "stdout"
        },
        {
          "output_type": "stream",
          "text": [
            "\n",
            "epoch 24 loss: 0.2728: 100%|██████████| 121/121 [00:46<00:00,  2.59it/s]\n",
            "epoch 24 loss: 0.8702: 100%|██████████| 16/16 [00:10<00:00,  1.58it/s]"
          ],
          "name": "stderr"
        },
        {
          "output_type": "stream",
          "text": [
            "validation multi-class accuracy = 0.6882\n"
          ],
          "name": "stdout"
        },
        {
          "output_type": "stream",
          "text": [
            "\n",
            "epoch 25 loss: 0.2954: 100%|██████████| 121/121 [00:43<00:00,  2.76it/s]\n",
            "epoch 25 loss: 0.8835: 100%|██████████| 16/16 [00:10<00:00,  1.59it/s]"
          ],
          "name": "stderr"
        },
        {
          "output_type": "stream",
          "text": [
            "validation multi-class accuracy = 0.6849\n"
          ],
          "name": "stdout"
        },
        {
          "output_type": "stream",
          "text": [
            "\n",
            "epoch 26 loss: 0.2059: 100%|██████████| 121/121 [00:44<00:00,  2.69it/s]\n",
            "epoch 26 loss: 0.8762: 100%|██████████| 16/16 [00:09<00:00,  1.71it/s]"
          ],
          "name": "stderr"
        },
        {
          "output_type": "stream",
          "text": [
            "validation multi-class accuracy = 0.6744\n"
          ],
          "name": "stdout"
        },
        {
          "output_type": "stream",
          "text": [
            "\n",
            "epoch 27 loss: 0.2382: 100%|██████████| 121/121 [00:45<00:00,  2.64it/s]\n",
            "epoch 27 loss: 0.8902: 100%|██████████| 16/16 [00:09<00:00,  1.72it/s]"
          ],
          "name": "stderr"
        },
        {
          "output_type": "stream",
          "text": [
            "validation multi-class accuracy = 0.6804\n"
          ],
          "name": "stdout"
        },
        {
          "output_type": "stream",
          "text": [
            "\n",
            "epoch 28 loss: 0.1817: 100%|██████████| 121/121 [00:45<00:00,  2.65it/s]\n",
            "epoch 28 loss: 0.9343: 100%|██████████| 16/16 [00:09<00:00,  1.68it/s]"
          ],
          "name": "stderr"
        },
        {
          "output_type": "stream",
          "text": [
            "validation multi-class accuracy = 0.6906\n"
          ],
          "name": "stdout"
        },
        {
          "output_type": "stream",
          "text": [
            "\n",
            "epoch 29 loss: 0.2361: 100%|██████████| 121/121 [00:45<00:00,  2.67it/s]\n",
            "epoch 29 loss: 0.9251: 100%|██████████| 16/16 [00:09<00:00,  1.62it/s]"
          ],
          "name": "stderr"
        },
        {
          "output_type": "stream",
          "text": [
            "validation multi-class accuracy = 0.6713\n"
          ],
          "name": "stdout"
        },
        {
          "output_type": "stream",
          "text": [
            "\n",
            "epoch 30 loss: 0.1758: 100%|██████████| 121/121 [00:45<00:00,  2.64it/s]\n",
            "epoch 30 loss: 0.9293: 100%|██████████| 16/16 [00:09<00:00,  1.71it/s]\n"
          ],
          "name": "stderr"
        },
        {
          "output_type": "stream",
          "text": [
            "validation multi-class accuracy = 0.6757\n",
            "\n",
            "\n",
            "TRAINING FOLD 2/5\n",
            "Train: 1940 Val: 485 \n",
            "\n"
          ],
          "name": "stdout"
        },
        {
          "output_type": "stream",
          "text": [
            "epoch 1 loss: 0.6801: 100%|██████████| 121/121 [00:45<00:00,  2.65it/s]\n",
            "epoch 1 loss: 0.6390: 100%|██████████| 16/16 [00:09<00:00,  1.67it/s]"
          ],
          "name": "stderr"
        },
        {
          "output_type": "stream",
          "text": [
            "validation multi-class accuracy = 0.6081\n"
          ],
          "name": "stdout"
        },
        {
          "output_type": "stream",
          "text": [
            "\n",
            "epoch 2 loss: 0.6183: 100%|██████████| 121/121 [00:45<00:00,  2.67it/s]\n",
            "epoch 2 loss: 0.5912: 100%|██████████| 16/16 [00:09<00:00,  1.65it/s]"
          ],
          "name": "stderr"
        },
        {
          "output_type": "stream",
          "text": [
            "validation multi-class accuracy = 0.7095\n"
          ],
          "name": "stdout"
        },
        {
          "output_type": "stream",
          "text": [
            "\n",
            "epoch 3 loss: 0.6508: 100%|██████████| 121/121 [00:44<00:00,  2.73it/s]\n",
            "epoch 3 loss: 0.5812: 100%|██████████| 16/16 [00:10<00:00,  1.56it/s]"
          ],
          "name": "stderr"
        },
        {
          "output_type": "stream",
          "text": [
            "validation multi-class accuracy = 0.6911\n"
          ],
          "name": "stdout"
        },
        {
          "output_type": "stream",
          "text": [
            "\n",
            "epoch 4 loss: 0.6021: 100%|██████████| 121/121 [00:43<00:00,  2.76it/s]\n",
            "epoch 4 loss: 0.5691: 100%|██████████| 16/16 [00:10<00:00,  1.57it/s]"
          ],
          "name": "stderr"
        },
        {
          "output_type": "stream",
          "text": [
            "validation multi-class accuracy = 0.7035\n"
          ],
          "name": "stdout"
        },
        {
          "output_type": "stream",
          "text": [
            "\n",
            "epoch 5 loss: 0.5579: 100%|██████████| 121/121 [00:45<00:00,  2.66it/s]\n",
            "epoch 5 loss: 0.5952: 100%|██████████| 16/16 [00:09<00:00,  1.69it/s]"
          ],
          "name": "stderr"
        },
        {
          "output_type": "stream",
          "text": [
            "validation multi-class accuracy = 0.7128\n"
          ],
          "name": "stdout"
        },
        {
          "output_type": "stream",
          "text": [
            "\n",
            "epoch 6 loss: 0.5443: 100%|██████████| 121/121 [00:47<00:00,  2.57it/s]\n",
            "epoch 6 loss: 0.5939: 100%|██████████| 16/16 [00:10<00:00,  1.54it/s]"
          ],
          "name": "stderr"
        },
        {
          "output_type": "stream",
          "text": [
            "validation multi-class accuracy = 0.7019\n"
          ],
          "name": "stdout"
        },
        {
          "output_type": "stream",
          "text": [
            "\n",
            "epoch 7 loss: 0.5912: 100%|██████████| 121/121 [00:43<00:00,  2.75it/s]\n",
            "epoch 7 loss: 0.5807: 100%|██████████| 16/16 [00:10<00:00,  1.58it/s]"
          ],
          "name": "stderr"
        },
        {
          "output_type": "stream",
          "text": [
            "validation multi-class accuracy = 0.7090\n"
          ],
          "name": "stdout"
        },
        {
          "output_type": "stream",
          "text": [
            "\n",
            "epoch 8 loss: 0.6141: 100%|██████████| 121/121 [00:44<00:00,  2.72it/s]\n",
            "epoch 8 loss: 0.5939: 100%|██████████| 16/16 [00:09<00:00,  1.72it/s]"
          ],
          "name": "stderr"
        },
        {
          "output_type": "stream",
          "text": [
            "validation multi-class accuracy = 0.7300\n"
          ],
          "name": "stdout"
        },
        {
          "output_type": "stream",
          "text": [
            "\n",
            "epoch 9 loss: 0.5606: 100%|██████████| 121/121 [00:45<00:00,  2.63it/s]\n",
            "epoch 9 loss: 0.5641: 100%|██████████| 16/16 [00:09<00:00,  1.71it/s]"
          ],
          "name": "stderr"
        },
        {
          "output_type": "stream",
          "text": [
            "validation multi-class accuracy = 0.7046\n"
          ],
          "name": "stdout"
        },
        {
          "output_type": "stream",
          "text": [
            "\n",
            "epoch 10 loss: 0.5281: 100%|██████████| 121/121 [00:46<00:00,  2.63it/s]\n",
            "epoch 10 loss: 0.5763: 100%|██████████| 16/16 [00:09<00:00,  1.70it/s]"
          ],
          "name": "stderr"
        },
        {
          "output_type": "stream",
          "text": [
            "validation multi-class accuracy = 0.7224\n"
          ],
          "name": "stdout"
        },
        {
          "output_type": "stream",
          "text": [
            "\n",
            "epoch 11 loss: 0.5448: 100%|██████████| 121/121 [00:45<00:00,  2.67it/s]\n",
            "epoch 11 loss: 0.5910: 100%|██████████| 16/16 [00:09<00:00,  1.65it/s]"
          ],
          "name": "stderr"
        },
        {
          "output_type": "stream",
          "text": [
            "validation multi-class accuracy = 0.7301\n"
          ],
          "name": "stdout"
        },
        {
          "output_type": "stream",
          "text": [
            "\n",
            "epoch 12 loss: 0.4735: 100%|██████████| 121/121 [00:45<00:00,  2.63it/s]\n",
            "epoch 12 loss: 0.5824: 100%|██████████| 16/16 [00:09<00:00,  1.72it/s]"
          ],
          "name": "stderr"
        },
        {
          "output_type": "stream",
          "text": [
            "validation multi-class accuracy = 0.6895\n"
          ],
          "name": "stdout"
        },
        {
          "output_type": "stream",
          "text": [
            "\n",
            "epoch 13 loss: 0.6007: 100%|██████████| 121/121 [00:45<00:00,  2.65it/s]\n",
            "epoch 13 loss: 0.5919: 100%|██████████| 16/16 [00:09<00:00,  1.70it/s]"
          ],
          "name": "stderr"
        },
        {
          "output_type": "stream",
          "text": [
            "validation multi-class accuracy = 0.6895\n"
          ],
          "name": "stdout"
        },
        {
          "output_type": "stream",
          "text": [
            "\n",
            "epoch 14 loss: 0.4433: 100%|██████████| 121/121 [00:45<00:00,  2.67it/s]\n",
            "epoch 14 loss: 0.5782: 100%|██████████| 16/16 [00:09<00:00,  1.65it/s]"
          ],
          "name": "stderr"
        },
        {
          "output_type": "stream",
          "text": [
            "validation multi-class accuracy = 0.6989\n"
          ],
          "name": "stdout"
        },
        {
          "output_type": "stream",
          "text": [
            "\n",
            "epoch 15 loss: 0.5000: 100%|██████████| 121/121 [00:44<00:00,  2.70it/s]\n",
            "epoch 15 loss: 0.5992: 100%|██████████| 16/16 [00:10<00:00,  1.54it/s]"
          ],
          "name": "stderr"
        },
        {
          "output_type": "stream",
          "text": [
            "validation multi-class accuracy = 0.6583\n"
          ],
          "name": "stdout"
        },
        {
          "output_type": "stream",
          "text": [
            "\n",
            "epoch 16 loss: 0.4616: 100%|██████████| 121/121 [00:43<00:00,  2.75it/s]\n",
            "epoch 16 loss: 0.6052: 100%|██████████| 16/16 [00:10<00:00,  1.56it/s]"
          ],
          "name": "stderr"
        },
        {
          "output_type": "stream",
          "text": [
            "validation multi-class accuracy = 0.6905\n"
          ],
          "name": "stdout"
        },
        {
          "output_type": "stream",
          "text": [
            "\n",
            "epoch 17 loss: 0.5016: 100%|██████████| 121/121 [00:45<00:00,  2.68it/s]\n",
            "epoch 17 loss: 0.6949: 100%|██████████| 16/16 [00:09<00:00,  1.69it/s]"
          ],
          "name": "stderr"
        },
        {
          "output_type": "stream",
          "text": [
            "validation multi-class accuracy = 0.6698\n"
          ],
          "name": "stdout"
        },
        {
          "output_type": "stream",
          "text": [
            "\n",
            "epoch 18 loss: 0.4429: 100%|██████████| 121/121 [00:47<00:00,  2.57it/s]\n",
            "epoch 18 loss: 0.5930: 100%|██████████| 16/16 [00:10<00:00,  1.53it/s]"
          ],
          "name": "stderr"
        },
        {
          "output_type": "stream",
          "text": [
            "validation multi-class accuracy = 0.7046\n"
          ],
          "name": "stdout"
        },
        {
          "output_type": "stream",
          "text": [
            "\n",
            "epoch 19 loss: 0.4862: 100%|██████████| 121/121 [00:43<00:00,  2.76it/s]\n",
            "epoch 19 loss: 0.6469: 100%|██████████| 16/16 [00:10<00:00,  1.53it/s]"
          ],
          "name": "stderr"
        },
        {
          "output_type": "stream",
          "text": [
            "validation multi-class accuracy = 0.7032\n"
          ],
          "name": "stdout"
        },
        {
          "output_type": "stream",
          "text": [
            "\n",
            "epoch 20 loss: 0.3524: 100%|██████████| 121/121 [00:44<00:00,  2.70it/s]\n",
            "epoch 20 loss: 0.6740: 100%|██████████| 16/16 [00:09<00:00,  1.70it/s]"
          ],
          "name": "stderr"
        },
        {
          "output_type": "stream",
          "text": [
            "validation multi-class accuracy = 0.7140\n"
          ],
          "name": "stdout"
        },
        {
          "output_type": "stream",
          "text": [
            "\n",
            "epoch 21 loss: 0.4150: 100%|██████████| 121/121 [00:45<00:00,  2.64it/s]\n",
            "epoch 21 loss: 0.6683: 100%|██████████| 16/16 [00:09<00:00,  1.69it/s]"
          ],
          "name": "stderr"
        },
        {
          "output_type": "stream",
          "text": [
            "validation multi-class accuracy = 0.7010\n"
          ],
          "name": "stdout"
        },
        {
          "output_type": "stream",
          "text": [
            "\n",
            "epoch 22 loss: 0.3294: 100%|██████████| 121/121 [00:45<00:00,  2.64it/s]\n",
            "epoch 22 loss: 0.7919: 100%|██████████| 16/16 [00:09<00:00,  1.69it/s]"
          ],
          "name": "stderr"
        },
        {
          "output_type": "stream",
          "text": [
            "validation multi-class accuracy = 0.7091\n"
          ],
          "name": "stdout"
        },
        {
          "output_type": "stream",
          "text": [
            "\n",
            "epoch 23 loss: 0.3779: 100%|██████████| 121/121 [00:46<00:00,  2.62it/s]\n",
            "epoch 23 loss: 0.7545: 100%|██████████| 16/16 [00:09<00:00,  1.62it/s]"
          ],
          "name": "stderr"
        },
        {
          "output_type": "stream",
          "text": [
            "validation multi-class accuracy = 0.6774\n"
          ],
          "name": "stdout"
        },
        {
          "output_type": "stream",
          "text": [
            "\n",
            "epoch 24 loss: 0.3103: 100%|██████████| 121/121 [00:45<00:00,  2.64it/s]\n",
            "epoch 24 loss: 0.8204: 100%|██████████| 16/16 [00:09<00:00,  1.70it/s]"
          ],
          "name": "stderr"
        },
        {
          "output_type": "stream",
          "text": [
            "validation multi-class accuracy = 0.6820\n"
          ],
          "name": "stdout"
        },
        {
          "output_type": "stream",
          "text": [
            "\n",
            "epoch 25 loss: 0.2387: 100%|██████████| 121/121 [00:45<00:00,  2.64it/s]\n",
            "epoch 25 loss: 0.9274: 100%|██████████| 16/16 [00:09<00:00,  1.66it/s]"
          ],
          "name": "stderr"
        },
        {
          "output_type": "stream",
          "text": [
            "validation multi-class accuracy = 0.6476\n"
          ],
          "name": "stdout"
        },
        {
          "output_type": "stream",
          "text": [
            "\n",
            "epoch 26 loss: 0.2501: 100%|██████████| 121/121 [00:45<00:00,  2.64it/s]\n",
            "epoch 26 loss: 0.8903: 100%|██████████| 16/16 [00:09<00:00,  1.70it/s]"
          ],
          "name": "stderr"
        },
        {
          "output_type": "stream",
          "text": [
            "validation multi-class accuracy = 0.6768\n"
          ],
          "name": "stdout"
        },
        {
          "output_type": "stream",
          "text": [
            "\n",
            "epoch 27 loss: 0.2066: 100%|██████████| 121/121 [00:45<00:00,  2.68it/s]\n",
            "epoch 27 loss: 0.9509: 100%|██████████| 16/16 [00:10<00:00,  1.58it/s]"
          ],
          "name": "stderr"
        },
        {
          "output_type": "stream",
          "text": [
            "validation multi-class accuracy = 0.6883\n"
          ],
          "name": "stdout"
        },
        {
          "output_type": "stream",
          "text": [
            "\n",
            "epoch 28 loss: 0.1965: 100%|██████████| 121/121 [00:44<00:00,  2.72it/s]\n",
            "epoch 28 loss: 0.9245: 100%|██████████| 16/16 [00:10<00:00,  1.55it/s]"
          ],
          "name": "stderr"
        },
        {
          "output_type": "stream",
          "text": [
            "validation multi-class accuracy = 0.6805\n"
          ],
          "name": "stdout"
        },
        {
          "output_type": "stream",
          "text": [
            "\n",
            "epoch 29 loss: 0.1751: 100%|██████████| 121/121 [00:44<00:00,  2.71it/s]\n",
            "epoch 29 loss: 0.9071: 100%|██████████| 16/16 [00:09<00:00,  1.62it/s]"
          ],
          "name": "stderr"
        },
        {
          "output_type": "stream",
          "text": [
            "validation multi-class accuracy = 0.6695\n"
          ],
          "name": "stdout"
        },
        {
          "output_type": "stream",
          "text": [
            "\n",
            "epoch 30 loss: 0.2564: 100%|██████████| 121/121 [00:46<00:00,  2.58it/s]\n",
            "epoch 30 loss: 0.8930: 100%|██████████| 16/16 [00:09<00:00,  1.60it/s]\n"
          ],
          "name": "stderr"
        },
        {
          "output_type": "stream",
          "text": [
            "validation multi-class accuracy = 0.6667\n",
            "\n",
            "\n",
            "TRAINING FOLD 3/5\n",
            "Train: 1940 Val: 485 \n",
            "\n"
          ],
          "name": "stdout"
        },
        {
          "output_type": "stream",
          "text": [
            "epoch 1 loss: 0.6871: 100%|██████████| 121/121 [00:44<00:00,  2.71it/s]\n",
            "epoch 1 loss: 0.6423: 100%|██████████| 16/16 [00:10<00:00,  1.54it/s]"
          ],
          "name": "stderr"
        },
        {
          "output_type": "stream",
          "text": [
            "validation multi-class accuracy = 0.5751\n"
          ],
          "name": "stdout"
        },
        {
          "output_type": "stream",
          "text": [
            "\n",
            "epoch 2 loss: 0.6643: 100%|██████████| 121/121 [00:44<00:00,  2.72it/s]\n",
            "epoch 2 loss: 0.5880: 100%|██████████| 16/16 [00:10<00:00,  1.58it/s]"
          ],
          "name": "stderr"
        },
        {
          "output_type": "stream",
          "text": [
            "validation multi-class accuracy = 0.6637\n"
          ],
          "name": "stdout"
        },
        {
          "output_type": "stream",
          "text": [
            "\n",
            "epoch 3 loss: 0.5926: 100%|██████████| 121/121 [00:45<00:00,  2.65it/s]\n",
            "epoch 3 loss: 0.5784: 100%|██████████| 16/16 [00:09<00:00,  1.70it/s]"
          ],
          "name": "stderr"
        },
        {
          "output_type": "stream",
          "text": [
            "validation multi-class accuracy = 0.7071\n"
          ],
          "name": "stdout"
        },
        {
          "output_type": "stream",
          "text": [
            "\n",
            "epoch 4 loss: 0.5886: 100%|██████████| 121/121 [00:45<00:00,  2.65it/s]\n",
            "epoch 4 loss: 0.5775: 100%|██████████| 16/16 [00:09<00:00,  1.69it/s]"
          ],
          "name": "stderr"
        },
        {
          "output_type": "stream",
          "text": [
            "validation multi-class accuracy = 0.7134\n"
          ],
          "name": "stdout"
        },
        {
          "output_type": "stream",
          "text": [
            "\n",
            "epoch 5 loss: 0.6059: 100%|██████████| 121/121 [00:46<00:00,  2.62it/s]\n",
            "epoch 5 loss: 0.5698: 100%|██████████| 16/16 [00:10<00:00,  1.55it/s]"
          ],
          "name": "stderr"
        },
        {
          "output_type": "stream",
          "text": [
            "validation multi-class accuracy = 0.6827\n"
          ],
          "name": "stdout"
        },
        {
          "output_type": "stream",
          "text": [
            "\n",
            "epoch 6 loss: 0.5759: 100%|██████████| 121/121 [00:45<00:00,  2.66it/s]\n",
            "epoch 6 loss: 0.5624: 100%|██████████| 16/16 [00:09<00:00,  1.71it/s]"
          ],
          "name": "stderr"
        },
        {
          "output_type": "stream",
          "text": [
            "validation multi-class accuracy = 0.6650\n"
          ],
          "name": "stdout"
        },
        {
          "output_type": "stream",
          "text": [
            "\n",
            "epoch 7 loss: 0.5864: 100%|██████████| 121/121 [00:46<00:00,  2.63it/s]\n",
            "epoch 7 loss: 0.5774: 100%|██████████| 16/16 [00:09<00:00,  1.70it/s]"
          ],
          "name": "stderr"
        },
        {
          "output_type": "stream",
          "text": [
            "validation multi-class accuracy = 0.7013\n"
          ],
          "name": "stdout"
        },
        {
          "output_type": "stream",
          "text": [
            "\n",
            "epoch 8 loss: 0.4816: 100%|██████████| 121/121 [00:46<00:00,  2.62it/s]\n",
            "epoch 8 loss: 0.5613: 100%|██████████| 16/16 [00:09<00:00,  1.66it/s]"
          ],
          "name": "stderr"
        },
        {
          "output_type": "stream",
          "text": [
            "validation multi-class accuracy = 0.7066\n"
          ],
          "name": "stdout"
        },
        {
          "output_type": "stream",
          "text": [
            "\n",
            "epoch 9 loss: 0.5722: 100%|██████████| 121/121 [00:46<00:00,  2.63it/s]\n",
            "epoch 9 loss: 0.5683: 100%|██████████| 16/16 [00:09<00:00,  1.67it/s]"
          ],
          "name": "stderr"
        },
        {
          "output_type": "stream",
          "text": [
            "validation multi-class accuracy = 0.7027\n"
          ],
          "name": "stdout"
        },
        {
          "output_type": "stream",
          "text": [
            "\n",
            "epoch 10 loss: 0.5586: 100%|██████████| 121/121 [00:44<00:00,  2.70it/s]\n",
            "epoch 10 loss: 0.6032: 100%|██████████| 16/16 [00:10<00:00,  1.54it/s]"
          ],
          "name": "stderr"
        },
        {
          "output_type": "stream",
          "text": [
            "validation multi-class accuracy = 0.7082\n"
          ],
          "name": "stdout"
        },
        {
          "output_type": "stream",
          "text": [
            "\n",
            "epoch 11 loss: 0.5330: 100%|██████████| 121/121 [00:43<00:00,  2.75it/s]\n",
            "epoch 11 loss: 0.5354: 100%|██████████| 16/16 [00:10<00:00,  1.53it/s]"
          ],
          "name": "stderr"
        },
        {
          "output_type": "stream",
          "text": [
            "validation multi-class accuracy = 0.6864\n"
          ],
          "name": "stdout"
        },
        {
          "output_type": "stream",
          "text": [
            "\n",
            "epoch 12 loss: 0.5500: 100%|██████████| 121/121 [00:47<00:00,  2.57it/s]\n",
            "epoch 12 loss: 0.5429: 100%|██████████| 16/16 [00:09<00:00,  1.70it/s]"
          ],
          "name": "stderr"
        },
        {
          "output_type": "stream",
          "text": [
            "validation multi-class accuracy = 0.7127\n"
          ],
          "name": "stdout"
        },
        {
          "output_type": "stream",
          "text": [
            "\n",
            "epoch 13 loss: 0.5401: 100%|██████████| 121/121 [00:44<00:00,  2.69it/s]\n",
            "epoch 13 loss: 0.6251: 100%|██████████| 16/16 [00:10<00:00,  1.57it/s]"
          ],
          "name": "stderr"
        },
        {
          "output_type": "stream",
          "text": [
            "validation multi-class accuracy = 0.6283\n"
          ],
          "name": "stdout"
        },
        {
          "output_type": "stream",
          "text": [
            "\n",
            "epoch 14 loss: 0.4975: 100%|██████████| 121/121 [00:44<00:00,  2.73it/s]\n",
            "epoch 14 loss: 0.6319: 100%|██████████| 16/16 [00:10<00:00,  1.54it/s]"
          ],
          "name": "stderr"
        },
        {
          "output_type": "stream",
          "text": [
            "validation multi-class accuracy = 0.6862\n"
          ],
          "name": "stdout"
        },
        {
          "output_type": "stream",
          "text": [
            "\n",
            "epoch 15 loss: 0.5309: 100%|██████████| 121/121 [00:45<00:00,  2.68it/s]\n",
            "epoch 15 loss: 0.6035: 100%|██████████| 16/16 [00:09<00:00,  1.67it/s]"
          ],
          "name": "stderr"
        },
        {
          "output_type": "stream",
          "text": [
            "validation multi-class accuracy = 0.6975\n"
          ],
          "name": "stdout"
        },
        {
          "output_type": "stream",
          "text": [
            "\n",
            "epoch 16 loss: 0.4427: 100%|██████████| 121/121 [00:46<00:00,  2.62it/s]\n",
            "epoch 16 loss: 0.6046: 100%|██████████| 16/16 [00:09<00:00,  1.71it/s]"
          ],
          "name": "stderr"
        },
        {
          "output_type": "stream",
          "text": [
            "validation multi-class accuracy = 0.6859\n"
          ],
          "name": "stdout"
        },
        {
          "output_type": "stream",
          "text": [
            "\n",
            "epoch 17 loss: 0.4406: 100%|██████████| 121/121 [00:46<00:00,  2.58it/s]\n",
            "epoch 17 loss: 0.6463: 100%|██████████| 16/16 [00:10<00:00,  1.56it/s]"
          ],
          "name": "stderr"
        },
        {
          "output_type": "stream",
          "text": [
            "validation multi-class accuracy = 0.6969\n"
          ],
          "name": "stdout"
        },
        {
          "output_type": "stream",
          "text": [
            "\n",
            "epoch 18 loss: 0.4309: 100%|██████████| 121/121 [00:44<00:00,  2.69it/s]\n",
            "epoch 18 loss: 0.7075: 100%|██████████| 16/16 [00:09<00:00,  1.61it/s]"
          ],
          "name": "stderr"
        },
        {
          "output_type": "stream",
          "text": [
            "validation multi-class accuracy = 0.6459\n"
          ],
          "name": "stdout"
        },
        {
          "output_type": "stream",
          "text": [
            "\n",
            "epoch 19 loss: 0.4209: 100%|██████████| 121/121 [00:45<00:00,  2.63it/s]\n",
            "epoch 19 loss: 0.6262: 100%|██████████| 16/16 [00:09<00:00,  1.70it/s]"
          ],
          "name": "stderr"
        },
        {
          "output_type": "stream",
          "text": [
            "validation multi-class accuracy = 0.7052\n"
          ],
          "name": "stdout"
        },
        {
          "output_type": "stream",
          "text": [
            "\n",
            "epoch 20 loss: 0.3983: 100%|██████████| 121/121 [00:46<00:00,  2.59it/s]\n",
            "epoch 20 loss: 0.6618: 100%|██████████| 16/16 [00:09<00:00,  1.68it/s]"
          ],
          "name": "stderr"
        },
        {
          "output_type": "stream",
          "text": [
            "validation multi-class accuracy = 0.7064\n"
          ],
          "name": "stdout"
        },
        {
          "output_type": "stream",
          "text": [
            "\n",
            "epoch 21 loss: 0.4440: 100%|██████████| 121/121 [00:46<00:00,  2.60it/s]\n",
            "epoch 21 loss: 0.7152: 100%|██████████| 16/16 [00:09<00:00,  1.63it/s]"
          ],
          "name": "stderr"
        },
        {
          "output_type": "stream",
          "text": [
            "validation multi-class accuracy = 0.7229\n"
          ],
          "name": "stdout"
        },
        {
          "output_type": "stream",
          "text": [
            "\n",
            "epoch 22 loss: 0.3258: 100%|██████████| 121/121 [00:46<00:00,  2.61it/s]\n",
            "epoch 22 loss: 0.8139: 100%|██████████| 16/16 [00:10<00:00,  1.59it/s]"
          ],
          "name": "stderr"
        },
        {
          "output_type": "stream",
          "text": [
            "validation multi-class accuracy = 0.6667\n"
          ],
          "name": "stdout"
        },
        {
          "output_type": "stream",
          "text": [
            "\n",
            "epoch 23 loss: 0.2733: 100%|██████████| 121/121 [00:46<00:00,  2.58it/s]\n",
            "epoch 23 loss: 0.8153: 100%|██████████| 16/16 [00:09<00:00,  1.65it/s]"
          ],
          "name": "stderr"
        },
        {
          "output_type": "stream",
          "text": [
            "validation multi-class accuracy = 0.6556\n"
          ],
          "name": "stdout"
        },
        {
          "output_type": "stream",
          "text": [
            "\n",
            "epoch 24 loss: 0.2367: 100%|██████████| 121/121 [00:46<00:00,  2.60it/s]\n",
            "epoch 24 loss: 0.8740: 100%|██████████| 16/16 [00:09<00:00,  1.68it/s]"
          ],
          "name": "stderr"
        },
        {
          "output_type": "stream",
          "text": [
            "validation multi-class accuracy = 0.6696\n"
          ],
          "name": "stdout"
        },
        {
          "output_type": "stream",
          "text": [
            "\n",
            "epoch 25 loss: 0.2397: 100%|██████████| 121/121 [00:46<00:00,  2.60it/s]\n",
            "epoch 25 loss: 0.9262: 100%|██████████| 16/16 [00:09<00:00,  1.63it/s]"
          ],
          "name": "stderr"
        },
        {
          "output_type": "stream",
          "text": [
            "validation multi-class accuracy = 0.6923\n"
          ],
          "name": "stdout"
        },
        {
          "output_type": "stream",
          "text": [
            "\n",
            "epoch 26 loss: 0.2338: 100%|██████████| 121/121 [00:46<00:00,  2.62it/s]\n",
            "epoch 26 loss: 0.9231: 100%|██████████| 16/16 [00:10<00:00,  1.54it/s]"
          ],
          "name": "stderr"
        },
        {
          "output_type": "stream",
          "text": [
            "validation multi-class accuracy = 0.6813\n"
          ],
          "name": "stdout"
        },
        {
          "output_type": "stream",
          "text": [
            "\n",
            "epoch 27 loss: 0.1987: 100%|██████████| 121/121 [00:45<00:00,  2.68it/s]\n",
            "epoch 27 loss: 0.9159: 100%|██████████| 16/16 [00:10<00:00,  1.54it/s]"
          ],
          "name": "stderr"
        },
        {
          "output_type": "stream",
          "text": [
            "validation multi-class accuracy = 0.6886\n"
          ],
          "name": "stdout"
        },
        {
          "output_type": "stream",
          "text": [
            "\n",
            "epoch 28 loss: 0.2316: 100%|██████████| 121/121 [00:45<00:00,  2.66it/s]\n",
            "epoch 28 loss: 0.9390: 100%|██████████| 16/16 [00:10<00:00,  1.55it/s]"
          ],
          "name": "stderr"
        },
        {
          "output_type": "stream",
          "text": [
            "validation multi-class accuracy = 0.6829\n"
          ],
          "name": "stdout"
        },
        {
          "output_type": "stream",
          "text": [
            "\n",
            "epoch 29 loss: 0.2089: 100%|██████████| 121/121 [00:48<00:00,  2.52it/s]\n",
            "epoch 29 loss: 0.9602: 100%|██████████| 16/16 [00:09<00:00,  1.62it/s]"
          ],
          "name": "stderr"
        },
        {
          "output_type": "stream",
          "text": [
            "validation multi-class accuracy = 0.6886\n"
          ],
          "name": "stdout"
        },
        {
          "output_type": "stream",
          "text": [
            "\n",
            "epoch 30 loss: 0.1958: 100%|██████████| 121/121 [00:45<00:00,  2.65it/s]\n",
            "epoch 30 loss: 0.9553: 100%|██████████| 16/16 [00:10<00:00,  1.54it/s]\n"
          ],
          "name": "stderr"
        },
        {
          "output_type": "stream",
          "text": [
            "validation multi-class accuracy = 0.6858\n",
            "\n",
            "\n",
            "TRAINING FOLD 4/5\n",
            "Train: 1940 Val: 485 \n",
            "\n"
          ],
          "name": "stdout"
        },
        {
          "output_type": "stream",
          "text": [
            "epoch 1 loss: 0.6792: 100%|██████████| 121/121 [00:45<00:00,  2.68it/s]\n",
            "epoch 1 loss: 0.6497: 100%|██████████| 16/16 [00:10<00:00,  1.54it/s]"
          ],
          "name": "stderr"
        },
        {
          "output_type": "stream",
          "text": [
            "validation multi-class accuracy = 0.5282\n"
          ],
          "name": "stdout"
        },
        {
          "output_type": "stream",
          "text": [
            "\n",
            "epoch 2 loss: 0.6349: 100%|██████████| 121/121 [00:46<00:00,  2.63it/s]\n",
            "epoch 2 loss: 0.5892: 100%|██████████| 16/16 [00:09<00:00,  1.61it/s]"
          ],
          "name": "stderr"
        },
        {
          "output_type": "stream",
          "text": [
            "validation multi-class accuracy = 0.6467\n"
          ],
          "name": "stdout"
        },
        {
          "output_type": "stream",
          "text": [
            "\n",
            "epoch 3 loss: 0.6244: 100%|██████████| 121/121 [00:46<00:00,  2.59it/s]\n",
            "epoch 3 loss: 0.5831: 100%|██████████| 16/16 [00:09<00:00,  1.64it/s]"
          ],
          "name": "stderr"
        },
        {
          "output_type": "stream",
          "text": [
            "validation multi-class accuracy = 0.6783\n"
          ],
          "name": "stdout"
        },
        {
          "output_type": "stream",
          "text": [
            "\n",
            "epoch 4 loss: 0.6066: 100%|██████████| 121/121 [00:47<00:00,  2.57it/s]\n",
            "epoch 4 loss: 0.6280: 100%|██████████| 16/16 [00:10<00:00,  1.50it/s]"
          ],
          "name": "stderr"
        },
        {
          "output_type": "stream",
          "text": [
            "validation multi-class accuracy = 0.5242\n"
          ],
          "name": "stdout"
        },
        {
          "output_type": "stream",
          "text": [
            "\n",
            "epoch 5 loss: 0.5688: 100%|██████████| 121/121 [00:47<00:00,  2.56it/s]\n",
            "epoch 5 loss: 0.6413: 100%|██████████| 16/16 [00:10<00:00,  1.51it/s]"
          ],
          "name": "stderr"
        },
        {
          "output_type": "stream",
          "text": [
            "validation multi-class accuracy = 0.4909\n"
          ],
          "name": "stdout"
        },
        {
          "output_type": "stream",
          "text": [
            "\n",
            "epoch 6 loss: 0.6072: 100%|██████████| 121/121 [00:46<00:00,  2.59it/s]\n",
            "epoch 6 loss: 0.6346: 100%|██████████| 16/16 [00:09<00:00,  1.60it/s]"
          ],
          "name": "stderr"
        },
        {
          "output_type": "stream",
          "text": [
            "validation multi-class accuracy = 0.5922\n"
          ],
          "name": "stdout"
        },
        {
          "output_type": "stream",
          "text": [
            "\n",
            "epoch 7 loss: 0.6362: 100%|██████████| 121/121 [00:47<00:00,  2.56it/s]\n",
            "epoch 7 loss: 0.5685: 100%|██████████| 16/16 [00:09<00:00,  1.64it/s]"
          ],
          "name": "stderr"
        },
        {
          "output_type": "stream",
          "text": [
            "validation multi-class accuracy = 0.6809\n"
          ],
          "name": "stdout"
        },
        {
          "output_type": "stream",
          "text": [
            "\n",
            "epoch 8 loss: 0.5612: 100%|██████████| 121/121 [00:46<00:00,  2.59it/s]\n",
            "epoch 8 loss: 0.5508: 100%|██████████| 16/16 [00:09<00:00,  1.64it/s]"
          ],
          "name": "stderr"
        },
        {
          "output_type": "stream",
          "text": [
            "validation multi-class accuracy = 0.6700\n"
          ],
          "name": "stdout"
        },
        {
          "output_type": "stream",
          "text": [
            "\n",
            "epoch 9 loss: 0.5290: 100%|██████████| 121/121 [00:47<00:00,  2.57it/s]\n",
            "epoch 9 loss: 0.5706: 100%|██████████| 16/16 [00:09<00:00,  1.66it/s]"
          ],
          "name": "stderr"
        },
        {
          "output_type": "stream",
          "text": [
            "validation multi-class accuracy = 0.6905\n"
          ],
          "name": "stdout"
        },
        {
          "output_type": "stream",
          "text": [
            "\n",
            "epoch 10 loss: 0.5525: 100%|██████████| 121/121 [00:46<00:00,  2.62it/s]\n",
            "epoch 10 loss: 0.6090: 100%|██████████| 16/16 [00:10<00:00,  1.56it/s]"
          ],
          "name": "stderr"
        },
        {
          "output_type": "stream",
          "text": [
            "validation multi-class accuracy = 0.6667\n"
          ],
          "name": "stdout"
        },
        {
          "output_type": "stream",
          "text": [
            "\n",
            "epoch 11 loss: 0.5422: 100%|██████████| 121/121 [00:47<00:00,  2.57it/s]\n",
            "epoch 11 loss: 0.5689: 100%|██████████| 16/16 [00:09<00:00,  1.65it/s]"
          ],
          "name": "stderr"
        },
        {
          "output_type": "stream",
          "text": [
            "validation multi-class accuracy = 0.6478\n"
          ],
          "name": "stdout"
        },
        {
          "output_type": "stream",
          "text": [
            "\n",
            "epoch 12 loss: 0.5460: 100%|██████████| 121/121 [00:46<00:00,  2.58it/s]\n",
            "epoch 12 loss: 0.6663: 100%|██████████| 16/16 [00:09<00:00,  1.61it/s]"
          ],
          "name": "stderr"
        },
        {
          "output_type": "stream",
          "text": [
            "validation multi-class accuracy = 0.6596\n"
          ],
          "name": "stdout"
        },
        {
          "output_type": "stream",
          "text": [
            "\n",
            "epoch 13 loss: 0.5094: 100%|██████████| 121/121 [00:47<00:00,  2.55it/s]\n",
            "epoch 13 loss: 0.5741: 100%|██████████| 16/16 [00:09<00:00,  1.63it/s]"
          ],
          "name": "stderr"
        },
        {
          "output_type": "stream",
          "text": [
            "validation multi-class accuracy = 0.6731\n"
          ],
          "name": "stdout"
        },
        {
          "output_type": "stream",
          "text": [
            "\n",
            "epoch 14 loss: 0.5368: 100%|██████████| 121/121 [00:46<00:00,  2.62it/s]\n",
            "epoch 14 loss: 0.5621: 100%|██████████| 16/16 [00:10<00:00,  1.53it/s]"
          ],
          "name": "stderr"
        },
        {
          "output_type": "stream",
          "text": [
            "validation multi-class accuracy = 0.7157\n"
          ],
          "name": "stdout"
        },
        {
          "output_type": "stream",
          "text": [
            "\n",
            "epoch 15 loss: 0.5448: 100%|██████████| 121/121 [00:45<00:00,  2.65it/s]\n",
            "epoch 15 loss: 0.6084: 100%|██████████| 16/16 [00:10<00:00,  1.51it/s]"
          ],
          "name": "stderr"
        },
        {
          "output_type": "stream",
          "text": [
            "validation multi-class accuracy = 0.6631\n"
          ],
          "name": "stdout"
        },
        {
          "output_type": "stream",
          "text": [
            "\n",
            "epoch 16 loss: 0.4652: 100%|██████████| 121/121 [00:47<00:00,  2.53it/s]\n",
            "epoch 16 loss: 0.5690: 100%|██████████| 16/16 [00:10<00:00,  1.58it/s]"
          ],
          "name": "stderr"
        },
        {
          "output_type": "stream",
          "text": [
            "validation multi-class accuracy = 0.7489\n"
          ],
          "name": "stdout"
        },
        {
          "output_type": "stream",
          "text": [
            "\n",
            "epoch 17 loss: 0.4794: 100%|██████████| 121/121 [00:47<00:00,  2.56it/s]\n",
            "epoch 17 loss: 0.6588: 100%|██████████| 16/16 [00:09<00:00,  1.60it/s]"
          ],
          "name": "stderr"
        },
        {
          "output_type": "stream",
          "text": [
            "validation multi-class accuracy = 0.6910\n"
          ],
          "name": "stdout"
        },
        {
          "output_type": "stream",
          "text": [
            "\n",
            "epoch 18 loss: 0.4452: 100%|██████████| 121/121 [00:46<00:00,  2.59it/s]\n",
            "epoch 18 loss: 0.5557: 100%|██████████| 16/16 [00:10<00:00,  1.52it/s]"
          ],
          "name": "stderr"
        },
        {
          "output_type": "stream",
          "text": [
            "validation multi-class accuracy = 0.7326\n"
          ],
          "name": "stdout"
        },
        {
          "output_type": "stream",
          "text": [
            "\n",
            "epoch 19 loss: 0.4537: 100%|██████████| 121/121 [00:45<00:00,  2.63it/s]\n",
            "epoch 19 loss: 0.6212: 100%|██████████| 16/16 [00:10<00:00,  1.50it/s]"
          ],
          "name": "stderr"
        },
        {
          "output_type": "stream",
          "text": [
            "validation multi-class accuracy = 0.6927\n"
          ],
          "name": "stdout"
        },
        {
          "output_type": "stream",
          "text": [
            "\n",
            "epoch 20 loss: 0.3772: 100%|██████████| 121/121 [00:46<00:00,  2.63it/s]\n",
            "epoch 20 loss: 0.6650: 100%|██████████| 16/16 [00:10<00:00,  1.55it/s]"
          ],
          "name": "stderr"
        },
        {
          "output_type": "stream",
          "text": [
            "validation multi-class accuracy = 0.6718\n"
          ],
          "name": "stdout"
        },
        {
          "output_type": "stream",
          "text": [
            "\n",
            "epoch 21 loss: 0.3706: 100%|██████████| 121/121 [00:46<00:00,  2.58it/s]\n",
            "epoch 21 loss: 0.6360: 100%|██████████| 16/16 [00:09<00:00,  1.64it/s]"
          ],
          "name": "stderr"
        },
        {
          "output_type": "stream",
          "text": [
            "validation multi-class accuracy = 0.7265\n"
          ],
          "name": "stdout"
        },
        {
          "output_type": "stream",
          "text": [
            "\n",
            "epoch 22 loss: 0.4087: 100%|██████████| 121/121 [00:48<00:00,  2.49it/s]\n",
            "epoch 22 loss: 0.6628: 100%|██████████| 16/16 [00:10<00:00,  1.51it/s]"
          ],
          "name": "stderr"
        },
        {
          "output_type": "stream",
          "text": [
            "validation multi-class accuracy = 0.6998\n"
          ],
          "name": "stdout"
        },
        {
          "output_type": "stream",
          "text": [
            "\n",
            "epoch 23 loss: 0.2788: 100%|██████████| 121/121 [00:45<00:00,  2.64it/s]\n",
            "epoch 23 loss: 0.6787: 100%|██████████| 16/16 [00:10<00:00,  1.53it/s]"
          ],
          "name": "stderr"
        },
        {
          "output_type": "stream",
          "text": [
            "validation multi-class accuracy = 0.6866\n"
          ],
          "name": "stdout"
        },
        {
          "output_type": "stream",
          "text": [
            "\n",
            "epoch 24 loss: 0.3421: 100%|██████████| 121/121 [00:46<00:00,  2.62it/s]\n",
            "epoch 24 loss: 0.7759: 100%|██████████| 16/16 [00:10<00:00,  1.59it/s]"
          ],
          "name": "stderr"
        },
        {
          "output_type": "stream",
          "text": [
            "validation multi-class accuracy = 0.6931\n"
          ],
          "name": "stdout"
        },
        {
          "output_type": "stream",
          "text": [
            "\n",
            "epoch 25 loss: 0.2687: 100%|██████████| 121/121 [00:47<00:00,  2.56it/s]\n",
            "epoch 25 loss: 0.7239: 100%|██████████| 16/16 [00:09<00:00,  1.64it/s]"
          ],
          "name": "stderr"
        },
        {
          "output_type": "stream",
          "text": [
            "validation multi-class accuracy = 0.7345\n"
          ],
          "name": "stdout"
        },
        {
          "output_type": "stream",
          "text": [
            "\n",
            "epoch 26 loss: 0.2690: 100%|██████████| 121/121 [00:47<00:00,  2.55it/s]\n",
            "epoch 26 loss: 0.8058: 100%|██████████| 16/16 [00:09<00:00,  1.63it/s]"
          ],
          "name": "stderr"
        },
        {
          "output_type": "stream",
          "text": [
            "validation multi-class accuracy = 0.7053\n"
          ],
          "name": "stdout"
        },
        {
          "output_type": "stream",
          "text": [
            "\n",
            "epoch 27 loss: 0.2390: 100%|██████████| 121/121 [00:47<00:00,  2.55it/s]\n",
            "epoch 27 loss: 0.8247: 100%|██████████| 16/16 [00:10<00:00,  1.51it/s]"
          ],
          "name": "stderr"
        },
        {
          "output_type": "stream",
          "text": [
            "validation multi-class accuracy = 0.6998\n"
          ],
          "name": "stdout"
        },
        {
          "output_type": "stream",
          "text": [
            "\n",
            "epoch 28 loss: 0.2403: 100%|██████████| 121/121 [00:46<00:00,  2.59it/s]\n",
            "epoch 28 loss: 0.8518: 100%|██████████| 16/16 [00:10<00:00,  1.59it/s]"
          ],
          "name": "stderr"
        },
        {
          "output_type": "stream",
          "text": [
            "validation multi-class accuracy = 0.7062\n"
          ],
          "name": "stdout"
        },
        {
          "output_type": "stream",
          "text": [
            "\n",
            "epoch 29 loss: 0.2957: 100%|██████████| 121/121 [00:47<00:00,  2.55it/s]\n",
            "epoch 29 loss: 0.8333: 100%|██████████| 16/16 [00:09<00:00,  1.64it/s]"
          ],
          "name": "stderr"
        },
        {
          "output_type": "stream",
          "text": [
            "validation multi-class accuracy = 0.7056\n"
          ],
          "name": "stdout"
        },
        {
          "output_type": "stream",
          "text": [
            "\n",
            "epoch 30 loss: 0.2450: 100%|██████████| 121/121 [00:47<00:00,  2.52it/s]\n",
            "epoch 30 loss: 0.8270: 100%|██████████| 16/16 [00:09<00:00,  1.63it/s]\n"
          ],
          "name": "stderr"
        },
        {
          "output_type": "stream",
          "text": [
            "validation multi-class accuracy = 0.7048\n",
            "\n",
            "\n",
            "TRAINING FOLD 5/5\n",
            "Train: 1940 Val: 485 \n",
            "\n"
          ],
          "name": "stdout"
        },
        {
          "output_type": "stream",
          "text": [
            "epoch 1 loss: 0.6815: 100%|██████████| 121/121 [00:47<00:00,  2.55it/s]\n",
            "epoch 1 loss: 0.6445: 100%|██████████| 16/16 [00:09<00:00,  1.61it/s]"
          ],
          "name": "stderr"
        },
        {
          "output_type": "stream",
          "text": [
            "validation multi-class accuracy = 0.5397\n"
          ],
          "name": "stdout"
        },
        {
          "output_type": "stream",
          "text": [
            "\n",
            "epoch 2 loss: 0.6245: 100%|██████████| 121/121 [00:47<00:00,  2.55it/s]\n",
            "epoch 2 loss: 0.6130: 100%|██████████| 16/16 [00:09<00:00,  1.62it/s]"
          ],
          "name": "stderr"
        },
        {
          "output_type": "stream",
          "text": [
            "validation multi-class accuracy = 0.6422\n"
          ],
          "name": "stdout"
        },
        {
          "output_type": "stream",
          "text": [
            "\n",
            "epoch 3 loss: 0.5809: 100%|██████████| 121/121 [00:46<00:00,  2.58it/s]\n",
            "epoch 3 loss: 0.5925: 100%|██████████| 16/16 [00:10<00:00,  1.54it/s]"
          ],
          "name": "stderr"
        },
        {
          "output_type": "stream",
          "text": [
            "validation multi-class accuracy = 0.6729\n"
          ],
          "name": "stdout"
        },
        {
          "output_type": "stream",
          "text": [
            "\n",
            "epoch 4 loss: 0.6604: 100%|██████████| 121/121 [00:47<00:00,  2.55it/s]\n",
            "epoch 4 loss: 0.5919: 100%|██████████| 16/16 [00:09<00:00,  1.61it/s]"
          ],
          "name": "stderr"
        },
        {
          "output_type": "stream",
          "text": [
            "validation multi-class accuracy = 0.6928\n"
          ],
          "name": "stdout"
        },
        {
          "output_type": "stream",
          "text": [
            "\n",
            "epoch 5 loss: 0.5911: 100%|██████████| 121/121 [00:47<00:00,  2.57it/s]\n",
            "epoch 5 loss: 0.5654: 100%|██████████| 16/16 [00:09<00:00,  1.64it/s]"
          ],
          "name": "stderr"
        },
        {
          "output_type": "stream",
          "text": [
            "validation multi-class accuracy = 0.7184\n"
          ],
          "name": "stdout"
        },
        {
          "output_type": "stream",
          "text": [
            "\n",
            "epoch 6 loss: 0.5896: 100%|██████████| 121/121 [00:46<00:00,  2.59it/s]\n",
            "epoch 6 loss: 0.5817: 100%|██████████| 16/16 [00:09<00:00,  1.61it/s]"
          ],
          "name": "stderr"
        },
        {
          "output_type": "stream",
          "text": [
            "validation multi-class accuracy = 0.6412\n"
          ],
          "name": "stdout"
        },
        {
          "output_type": "stream",
          "text": [
            "\n",
            "epoch 7 loss: 0.5591: 100%|██████████| 121/121 [00:46<00:00,  2.62it/s]\n",
            "epoch 7 loss: 0.5995: 100%|██████████| 16/16 [00:10<00:00,  1.53it/s]"
          ],
          "name": "stderr"
        },
        {
          "output_type": "stream",
          "text": [
            "validation multi-class accuracy = 0.6162\n"
          ],
          "name": "stdout"
        },
        {
          "output_type": "stream",
          "text": [
            "\n",
            "epoch 8 loss: 0.5931: 100%|██████████| 121/121 [00:45<00:00,  2.68it/s]\n",
            "epoch 8 loss: 0.5954: 100%|██████████| 16/16 [00:10<00:00,  1.49it/s]"
          ],
          "name": "stderr"
        },
        {
          "output_type": "stream",
          "text": [
            "validation multi-class accuracy = 0.6810\n"
          ],
          "name": "stdout"
        },
        {
          "output_type": "stream",
          "text": [
            "\n",
            "epoch 9 loss: 0.5307: 100%|██████████| 121/121 [00:47<00:00,  2.52it/s]\n",
            "epoch 9 loss: 0.5818: 100%|██████████| 16/16 [00:09<00:00,  1.64it/s]"
          ],
          "name": "stderr"
        },
        {
          "output_type": "stream",
          "text": [
            "validation multi-class accuracy = 0.6553\n"
          ],
          "name": "stdout"
        },
        {
          "output_type": "stream",
          "text": [
            "\n",
            "epoch 10 loss: 0.4987: 100%|██████████| 121/121 [00:46<00:00,  2.58it/s]\n",
            "epoch 10 loss: 0.5560: 100%|██████████| 16/16 [00:10<00:00,  1.58it/s]"
          ],
          "name": "stderr"
        },
        {
          "output_type": "stream",
          "text": [
            "validation multi-class accuracy = 0.6841\n"
          ],
          "name": "stdout"
        },
        {
          "output_type": "stream",
          "text": [
            "\n",
            "epoch 11 loss: 0.5020: 100%|██████████| 121/121 [00:46<00:00,  2.61it/s]\n",
            "epoch 11 loss: 0.5550: 100%|██████████| 16/16 [00:10<00:00,  1.51it/s]"
          ],
          "name": "stderr"
        },
        {
          "output_type": "stream",
          "text": [
            "validation multi-class accuracy = 0.7322\n"
          ],
          "name": "stdout"
        },
        {
          "output_type": "stream",
          "text": [
            "\n",
            "epoch 12 loss: 0.5153: 100%|██████████| 121/121 [00:46<00:00,  2.62it/s]\n",
            "epoch 12 loss: 0.5712: 100%|██████████| 16/16 [00:10<00:00,  1.52it/s]"
          ],
          "name": "stderr"
        },
        {
          "output_type": "stream",
          "text": [
            "validation multi-class accuracy = 0.7129\n"
          ],
          "name": "stdout"
        },
        {
          "output_type": "stream",
          "text": [
            "\n",
            "epoch 13 loss: 0.5285: 100%|██████████| 121/121 [00:46<00:00,  2.61it/s]\n",
            "epoch 13 loss: 0.5676: 100%|██████████| 16/16 [00:10<00:00,  1.60it/s]"
          ],
          "name": "stderr"
        },
        {
          "output_type": "stream",
          "text": [
            "validation multi-class accuracy = 0.6492\n"
          ],
          "name": "stdout"
        },
        {
          "output_type": "stream",
          "text": [
            "\n",
            "epoch 14 loss: 0.5205: 100%|██████████| 121/121 [00:47<00:00,  2.53it/s]\n",
            "epoch 14 loss: 0.5669: 100%|██████████| 16/16 [00:09<00:00,  1.62it/s]"
          ],
          "name": "stderr"
        },
        {
          "output_type": "stream",
          "text": [
            "validation multi-class accuracy = 0.6780\n"
          ],
          "name": "stdout"
        },
        {
          "output_type": "stream",
          "text": [
            "\n",
            "epoch 15 loss: 0.5756: 100%|██████████| 121/121 [00:48<00:00,  2.50it/s]\n",
            "epoch 15 loss: 0.5563: 100%|██████████| 16/16 [00:10<00:00,  1.50it/s]"
          ],
          "name": "stderr"
        },
        {
          "output_type": "stream",
          "text": [
            "validation multi-class accuracy = 0.6445\n"
          ],
          "name": "stdout"
        },
        {
          "output_type": "stream",
          "text": [
            "\n",
            "epoch 16 loss: 0.4894: 100%|██████████| 121/121 [00:45<00:00,  2.63it/s]\n",
            "epoch 16 loss: 0.5922: 100%|██████████| 16/16 [00:10<00:00,  1.51it/s]"
          ],
          "name": "stderr"
        },
        {
          "output_type": "stream",
          "text": [
            "validation multi-class accuracy = 0.6928\n"
          ],
          "name": "stdout"
        },
        {
          "output_type": "stream",
          "text": [
            "\n",
            "epoch 17 loss: 0.4761: 100%|██████████| 121/121 [00:46<00:00,  2.61it/s]\n",
            "epoch 17 loss: 0.6068: 100%|██████████| 16/16 [00:09<00:00,  1.62it/s]"
          ],
          "name": "stderr"
        },
        {
          "output_type": "stream",
          "text": [
            "validation multi-class accuracy = 0.7069\n"
          ],
          "name": "stdout"
        },
        {
          "output_type": "stream",
          "text": [
            "\n",
            "epoch 18 loss: 0.4873: 100%|██████████| 121/121 [00:47<00:00,  2.57it/s]\n",
            "epoch 18 loss: 0.6484: 100%|██████████| 16/16 [00:09<00:00,  1.66it/s]"
          ],
          "name": "stderr"
        },
        {
          "output_type": "stream",
          "text": [
            "validation multi-class accuracy = 0.7133\n"
          ],
          "name": "stdout"
        },
        {
          "output_type": "stream",
          "text": [
            "\n",
            "epoch 19 loss: 0.3543: 100%|██████████| 121/121 [00:47<00:00,  2.56it/s]\n",
            "epoch 19 loss: 0.6049: 100%|██████████| 16/16 [00:09<00:00,  1.64it/s]"
          ],
          "name": "stderr"
        },
        {
          "output_type": "stream",
          "text": [
            "validation multi-class accuracy = 0.6861\n"
          ],
          "name": "stdout"
        },
        {
          "output_type": "stream",
          "text": [
            "\n",
            "epoch 20 loss: 0.4360: 100%|██████████| 121/121 [00:46<00:00,  2.58it/s]\n",
            "epoch 20 loss: 0.6439: 100%|██████████| 16/16 [00:10<00:00,  1.51it/s]"
          ],
          "name": "stderr"
        },
        {
          "output_type": "stream",
          "text": [
            "validation multi-class accuracy = 0.6548\n"
          ],
          "name": "stdout"
        },
        {
          "output_type": "stream",
          "text": [
            "\n",
            "epoch 21 loss: 0.4066: 100%|██████████| 121/121 [00:46<00:00,  2.62it/s]\n",
            "epoch 21 loss: 0.6951: 100%|██████████| 16/16 [00:09<00:00,  1.62it/s]"
          ],
          "name": "stderr"
        },
        {
          "output_type": "stream",
          "text": [
            "validation multi-class accuracy = 0.7064\n"
          ],
          "name": "stdout"
        },
        {
          "output_type": "stream",
          "text": [
            "\n",
            "epoch 22 loss: 0.3446: 100%|██████████| 121/121 [00:46<00:00,  2.58it/s]\n",
            "epoch 22 loss: 0.8497: 100%|██████████| 16/16 [00:09<00:00,  1.65it/s]"
          ],
          "name": "stderr"
        },
        {
          "output_type": "stream",
          "text": [
            "validation multi-class accuracy = 0.7002\n"
          ],
          "name": "stdout"
        },
        {
          "output_type": "stream",
          "text": [
            "\n",
            "epoch 23 loss: 0.3418: 100%|██████████| 121/121 [00:47<00:00,  2.56it/s]\n",
            "epoch 23 loss: 0.8343: 100%|██████████| 16/16 [00:09<00:00,  1.63it/s]"
          ],
          "name": "stderr"
        },
        {
          "output_type": "stream",
          "text": [
            "validation multi-class accuracy = 0.6805\n"
          ],
          "name": "stdout"
        },
        {
          "output_type": "stream",
          "text": [
            "\n",
            "epoch 24 loss: 0.2633: 100%|██████████| 121/121 [00:47<00:00,  2.54it/s]\n",
            "epoch 24 loss: 0.8762: 100%|██████████| 16/16 [00:09<00:00,  1.65it/s]"
          ],
          "name": "stderr"
        },
        {
          "output_type": "stream",
          "text": [
            "validation multi-class accuracy = 0.7031\n"
          ],
          "name": "stdout"
        },
        {
          "output_type": "stream",
          "text": [
            "\n",
            "epoch 25 loss: 0.2708: 100%|██████████| 121/121 [00:46<00:00,  2.62it/s]\n",
            "epoch 25 loss: 0.8440: 100%|██████████| 16/16 [00:10<00:00,  1.56it/s]"
          ],
          "name": "stderr"
        },
        {
          "output_type": "stream",
          "text": [
            "validation multi-class accuracy = 0.6667\n"
          ],
          "name": "stdout"
        },
        {
          "output_type": "stream",
          "text": [
            "\n",
            "epoch 26 loss: 0.2373: 100%|██████████| 121/121 [00:47<00:00,  2.57it/s]\n",
            "epoch 26 loss: 0.9342: 100%|██████████| 16/16 [00:09<00:00,  1.65it/s]"
          ],
          "name": "stderr"
        },
        {
          "output_type": "stream",
          "text": [
            "validation multi-class accuracy = 0.6744\n"
          ],
          "name": "stdout"
        },
        {
          "output_type": "stream",
          "text": [
            "\n",
            "epoch 27 loss: 0.2858: 100%|██████████| 121/121 [00:46<00:00,  2.58it/s]\n",
            "epoch 27 loss: 0.9187: 100%|██████████| 16/16 [00:09<00:00,  1.65it/s]"
          ],
          "name": "stderr"
        },
        {
          "output_type": "stream",
          "text": [
            "validation multi-class accuracy = 0.6944\n"
          ],
          "name": "stdout"
        },
        {
          "output_type": "stream",
          "text": [
            "\n",
            "epoch 28 loss: 0.1960: 100%|██████████| 121/121 [00:46<00:00,  2.59it/s]\n",
            "epoch 28 loss: 0.9221: 100%|██████████| 16/16 [00:09<00:00,  1.62it/s]"
          ],
          "name": "stderr"
        },
        {
          "output_type": "stream",
          "text": [
            "validation multi-class accuracy = 0.7016\n"
          ],
          "name": "stdout"
        },
        {
          "output_type": "stream",
          "text": [
            "\n",
            "epoch 29 loss: 0.2633: 100%|██████████| 121/121 [00:45<00:00,  2.65it/s]\n",
            "epoch 29 loss: 0.9595: 100%|██████████| 16/16 [00:10<00:00,  1.53it/s]"
          ],
          "name": "stderr"
        },
        {
          "output_type": "stream",
          "text": [
            "validation multi-class accuracy = 0.7080\n"
          ],
          "name": "stdout"
        },
        {
          "output_type": "stream",
          "text": [
            "\n",
            "epoch 30 loss: 0.2003: 100%|██████████| 121/121 [00:45<00:00,  2.66it/s]\n",
            "epoch 30 loss: 0.9712: 100%|██████████| 16/16 [00:10<00:00,  1.53it/s]\n"
          ],
          "name": "stderr"
        },
        {
          "output_type": "stream",
          "text": [
            "validation multi-class accuracy = 0.6957\n"
          ],
          "name": "stdout"
        }
      ]
    },
    {
      "cell_type": "code",
      "metadata": {
        "colab": {
          "base_uri": "https://localhost:8080/"
        },
        "id": "XgrAXO7nUAjK",
        "outputId": "a13d0d83-92ff-4c13-d86a-252cba36e1b8"
      },
      "source": [
        "test_preds = []\n",
        "test = pd.read_csv(ROOT_DIR + \"test.csv\")\n",
        "\n",
        "test_dataset = PneumoniaDataset(test, ROOT_DIR+\"test/\",\n",
        "    transforms=get_transforms(\"test\", config.img_size), output_label=False)\n",
        "test_loader = torch.utils.data.DataLoader(test_dataset, batch_size=32, num_workers=2,\n",
        "    pin_memory=False, drop_last=False, shuffle=False)\n",
        "\n",
        "inference_weights_path = sorted(glob(\"./weights/*\"))\n",
        "inference_weights = np.ones(len(inference_weights_path))\n",
        "print(\"No. of models:\", len(inference_weights_path))\n",
        "\n",
        "for i, model_path in enumerate(inference_weights_path):\n",
        "\n",
        "    print(\"\\n\", i + 1, model_path)\n",
        "    model_name = model_path.split(\"ckpt_\")[-1].split(\"fold\")[0][:-1]\n",
        "    model = PneumoniaImageClassifier(model_name, n_class=2).to(device)\n",
        "    model.load_state_dict(torch.load(model_path))\n",
        "\n",
        "    with torch.no_grad():\n",
        "        test_preds += [inference_weights[i]/sum(inference_weights)*inference_one_epoch(model, test_loader, device)]\n",
        "\n",
        "    del model\n",
        "\n",
        "torch.cuda.empty_cache(); gc.collect();"
      ],
      "execution_count": 25,
      "outputs": [
        {
          "output_type": "stream",
          "text": [
            "No. of models: 5\n",
            "\n",
            " 1 ./weights/ckpt_tf_efficientnet_b4_ns_fold_0_030.pth\n"
          ],
          "name": "stdout"
        },
        {
          "output_type": "stream",
          "text": [
            "100%|██████████| 19/19 [00:12<00:00,  1.52it/s]\n"
          ],
          "name": "stderr"
        },
        {
          "output_type": "stream",
          "text": [
            "\n",
            " 2 ./weights/ckpt_tf_efficientnet_b4_ns_fold_1_030.pth\n"
          ],
          "name": "stdout"
        },
        {
          "output_type": "stream",
          "text": [
            "100%|██████████| 19/19 [00:13<00:00,  1.42it/s]\n"
          ],
          "name": "stderr"
        },
        {
          "output_type": "stream",
          "text": [
            "\n",
            " 3 ./weights/ckpt_tf_efficientnet_b4_ns_fold_2_030.pth\n"
          ],
          "name": "stdout"
        },
        {
          "output_type": "stream",
          "text": [
            "100%|██████████| 19/19 [00:13<00:00,  1.44it/s]\n"
          ],
          "name": "stderr"
        },
        {
          "output_type": "stream",
          "text": [
            "\n",
            " 4 ./weights/ckpt_tf_efficientnet_b4_ns_fold_3_030.pth\n"
          ],
          "name": "stdout"
        },
        {
          "output_type": "stream",
          "text": [
            "100%|██████████| 19/19 [00:12<00:00,  1.54it/s]\n"
          ],
          "name": "stderr"
        },
        {
          "output_type": "stream",
          "text": [
            "\n",
            " 5 ./weights/ckpt_tf_efficientnet_b4_ns_fold_4_030.pth\n"
          ],
          "name": "stdout"
        },
        {
          "output_type": "stream",
          "text": [
            "100%|██████████| 19/19 [00:12<00:00,  1.54it/s]\n"
          ],
          "name": "stderr"
        }
      ]
    },
    {
      "cell_type": "code",
      "metadata": {
        "colab": {
          "base_uri": "https://localhost:8080/"
        },
        "id": "wHaN9do70zlI",
        "outputId": "7c75bb95-f5ad-4f33-9c9d-1c7a96d4ecd0"
      },
      "source": [
        "inference_weights_path"
      ],
      "execution_count": 26,
      "outputs": [
        {
          "output_type": "execute_result",
          "data": {
            "text/plain": [
              "['./weights/ckpt_tf_efficientnet_b4_ns_fold_0_030.pth',\n",
              " './weights/ckpt_tf_efficientnet_b4_ns_fold_1_030.pth',\n",
              " './weights/ckpt_tf_efficientnet_b4_ns_fold_2_030.pth',\n",
              " './weights/ckpt_tf_efficientnet_b4_ns_fold_3_030.pth',\n",
              " './weights/ckpt_tf_efficientnet_b4_ns_fold_4_030.pth']"
            ]
          },
          "metadata": {
            "tags": []
          },
          "execution_count": 26
        }
      ]
    },
    {
      "cell_type": "code",
      "metadata": {
        "colab": {
          "base_uri": "https://localhost:8080/",
          "height": 35
        },
        "id": "7wzq74Zm1YB9",
        "outputId": "44a965d9-e010-4fff-f0ec-d61f851b4f6c"
      },
      "source": [
        "'./weights/ckpt_tf_efficientnet_b4_ns_fold_0_030.pth'.split(\"ckpt_\")[-1].split(\"fold\")[0][:-1]"
      ],
      "execution_count": 28,
      "outputs": [
        {
          "output_type": "execute_result",
          "data": {
            "application/vnd.google.colaboratory.intrinsic+json": {
              "type": "string"
            },
            "text/plain": [
              "'tf_efficientnet_b4_ns'"
            ]
          },
          "metadata": {
            "tags": []
          },
          "execution_count": 28
        }
      ]
    },
    {
      "cell_type": "code",
      "metadata": {
        "colab": {
          "base_uri": "https://localhost:8080/",
          "height": 206
        },
        "id": "J-IARJEv2EL3",
        "outputId": "6642db5d-eef0-4a26-8000-db74d6ceefbf"
      },
      "source": [
        "print(\"Saving...\")\n",
        "test_preds = np.mean(test_preds, axis=0)\n",
        "\n",
        "test[\"proba\"] = list(zip(test_preds))\n",
        "test[\"class\"] = np.argmax(test_preds, axis=1)\n",
        "test[\"label\"] = test[\"class\"].apply(lambda x: \"normal\" if int(x) == 0 else \"pneumonia\")\n",
        "\n",
        "print(test.shape)\n",
        "test.head(4)"
      ],
      "execution_count": 30,
      "outputs": [
        {
          "output_type": "stream",
          "text": [
            "Saving...\n",
            "(606, 4)\n"
          ],
          "name": "stdout"
        },
        {
          "output_type": "execute_result",
          "data": {
            "text/html": [
              "<div>\n",
              "<style scoped>\n",
              "    .dataframe tbody tr th:only-of-type {\n",
              "        vertical-align: middle;\n",
              "    }\n",
              "\n",
              "    .dataframe tbody tr th {\n",
              "        vertical-align: top;\n",
              "    }\n",
              "\n",
              "    .dataframe thead th {\n",
              "        text-align: right;\n",
              "    }\n",
              "</style>\n",
              "<table border=\"1\" class=\"dataframe\">\n",
              "  <thead>\n",
              "    <tr style=\"text-align: right;\">\n",
              "      <th></th>\n",
              "      <th>filename</th>\n",
              "      <th>proba</th>\n",
              "      <th>class</th>\n",
              "      <th>label</th>\n",
              "    </tr>\n",
              "  </thead>\n",
              "  <tbody>\n",
              "    <tr>\n",
              "      <th>0</th>\n",
              "      <td>CXR_test_519.png</td>\n",
              "      <td>([0.015404105, 0.18459588],)</td>\n",
              "      <td>1</td>\n",
              "      <td>pneumonia</td>\n",
              "    </tr>\n",
              "    <tr>\n",
              "      <th>1</th>\n",
              "      <td>CXR_test_578.png</td>\n",
              "      <td>([0.14187932, 0.05812068],)</td>\n",
              "      <td>0</td>\n",
              "      <td>normal</td>\n",
              "    </tr>\n",
              "    <tr>\n",
              "      <th>2</th>\n",
              "      <td>CXR_test_359.png</td>\n",
              "      <td>([0.13571468, 0.06428532],)</td>\n",
              "      <td>0</td>\n",
              "      <td>normal</td>\n",
              "    </tr>\n",
              "    <tr>\n",
              "      <th>3</th>\n",
              "      <td>CXR_test_573.png</td>\n",
              "      <td>([0.019217202, 0.18078281],)</td>\n",
              "      <td>1</td>\n",
              "      <td>pneumonia</td>\n",
              "    </tr>\n",
              "  </tbody>\n",
              "</table>\n",
              "</div>"
            ],
            "text/plain": [
              "           filename                         proba  class      label\n",
              "0  CXR_test_519.png  ([0.015404105, 0.18459588],)      1  pneumonia\n",
              "1  CXR_test_578.png   ([0.14187932, 0.05812068],)      0     normal\n",
              "2  CXR_test_359.png   ([0.13571468, 0.06428532],)      0     normal\n",
              "3  CXR_test_573.png  ([0.019217202, 0.18078281],)      1  pneumonia"
            ]
          },
          "metadata": {
            "tags": []
          },
          "execution_count": 30
        }
      ]
    },
    {
      "cell_type": "code",
      "metadata": {
        "id": "-dHQKm4U2WPE"
      },
      "source": [
        "os.makedirs(\"./output/\", exist_ok=True)\n",
        "test.to_csv(\"./output/\" + \"test.csv\", index=False)\n",
        "test[['filename', 'label']].to_csv(\"./output/\" + \"submission.csv\", index=False)"
      ],
      "execution_count": 32,
      "outputs": []
    },
    {
      "cell_type": "code",
      "metadata": {
        "id": "9mvUSMy_3zKK"
      },
      "source": [
        ""
      ],
      "execution_count": null,
      "outputs": []
    }
  ]
}